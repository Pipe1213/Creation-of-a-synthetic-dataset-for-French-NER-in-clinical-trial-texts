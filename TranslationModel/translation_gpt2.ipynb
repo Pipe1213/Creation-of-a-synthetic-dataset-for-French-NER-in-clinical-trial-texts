{
 "cells": [
  {
   "cell_type": "code",
   "execution_count": null,
   "metadata": {},
   "outputs": [],
   "source": [
    "# uncomment the following line to run in colab\n",
    "from google.colab import drive\n",
    "drive.mount('/content/drive')"
   ]
  },
  {
   "cell_type": "code",
   "execution_count": null,
   "metadata": {},
   "outputs": [],
   "source": [
    "!pip install sacremoses\n",
    "!pip install transformers"
   ]
  },
  {
   "cell_type": "code",
   "execution_count": null,
   "metadata": {},
   "outputs": [],
   "source": [
    "import transformers\n",
    "import utils\n",
    "import os\n",
    "from tqdm import tqdm\n",
    "import random"
   ]
  },
  {
   "cell_type": "code",
   "execution_count": null,
   "metadata": {},
   "outputs": [],
   "source": [
    "# DATA\n",
    "# data_path = '../data' # comment if using colab\n",
    "data_path = './drive/MyDrive/HandsOn-NLP/data' # uncomment if using colab\n",
    "chia_texts_path = f'{data_path}/chia_criteria_texts'\n",
    "chia_gpt_trans_path = f'{data_path}/chia_criteria_french_gpt2'"
   ]
  },
  {
   "cell_type": "code",
   "execution_count": null,
   "metadata": {},
   "outputs": [],
   "source": [
    "# read chia dataset\n",
    "files = os.listdir(chia_texts_path)\n",
    "files = [f for f in files if f.endswith('.txt')]\n",
    "len([file for file in files if file.endswith('exc.bio.txt')]), len([file for file in files if file.endswith('inc.bio.txt')])"
   ]
  },
  {
   "cell_type": "markdown",
   "metadata": {},
   "source": [
    "**Perform translation using gpt2 model**"
   ]
  },
  {
   "cell_type": "code",
   "execution_count": null,
   "metadata": {},
   "outputs": [],
   "source": [
    "# get list of already translated files\n",
    "translated_trials = os.listdir(chia_gpt_trans_path)\n",
    "len(translated_trials)"
   ]
  },
  {
   "cell_type": "code",
   "execution_count": null,
   "metadata": {},
   "outputs": [],
   "source": [
    "# get 100 random files to translate for evaluation\n",
    "files_to_translate = random.sample(files, 100)"
   ]
  },
  {
   "cell_type": "code",
   "execution_count": null,
   "metadata": {},
   "outputs": [],
   "source": [
    "translator = pipeline(\"translation\", model=\"gpt2\", device = 0)\n",
    "\n",
    "# translate the sentences\n",
    "for file in tqdm(files_to_translate):\n",
    "    if file.split('.txt')[0]+'_fr.txt' in translated_trials:\n",
    "      continue\n",
    "    with open(f'{data_path}/chia_criteria_texts/{file}', 'r') as f:\n",
    "        file_text = f.read()\n",
    "    print(file)\n",
    "    sentences = file_text.split('\\n')\n",
    "    sentences = [s for s in sentences if s if len(s) > 0 and len(s.split()) < 512]\n",
    "    translated_sentences = translator(sentences)\n",
    "    with open(f'{data_path}/chia_criteria_french_gpt2/{file.replace(\".txt\", \"_fr.txt\")}', 'w') as f:\n",
    "        f.write('\\n'.join([t['translation_text'] for t in translated_sentences]))"
   ]
  },
  {
   "cell_type": "code",
   "execution_count": 1,
   "metadata": {},
   "outputs": [
    {
     "name": "stdout",
     "output_type": "stream",
     "text": [
      "done\n"
     ]
    }
   ],
   "source": [
    "print('done')"
   ]
  }
 ],
 "metadata": {
  "kernelspec": {
   "display_name": "honlp",
   "language": "python",
   "name": "python3"
  },
  "language_info": {
   "codemirror_mode": {
    "name": "ipython",
    "version": 3
   },
   "file_extension": ".py",
   "mimetype": "text/x-python",
   "name": "python",
   "nbconvert_exporter": "python",
   "pygments_lexer": "ipython3",
   "version": "3.10.13"
  }
 },
 "nbformat": 4,
 "nbformat_minor": 2
}
