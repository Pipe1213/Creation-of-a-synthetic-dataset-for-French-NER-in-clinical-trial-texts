{
  "cells": [
    {
      "cell_type": "markdown",
      "metadata": {
        "id": "view-in-github",
        "colab_type": "text"
      },
      "source": [
        "<a href=\"https://colab.research.google.com/github/jlopetegui98/Creation-of-a-synthetic-dataset-for-French-NER-in-clinical-trial-texts/blob/main/TranslationModel/evaluate_translation.ipynb\" target=\"_parent\"><img src=\"https://colab.research.google.com/assets/colab-badge.svg\" alt=\"Open In Colab\"/></a>"
      ]
    },
    {
      "cell_type": "code",
      "source": [
        "# uncomment the following line to run in colab\n",
        "from google.colab import drive\n",
        "drive.mount('/content/drive')"
      ],
      "metadata": {
        "id": "SV3oMZ2ZVp7Q",
        "outputId": "e3854515-b556-44d5-9c65-c550588228de",
        "colab": {
          "base_uri": "https://localhost:8080/"
        }
      },
      "execution_count": 1,
      "outputs": [
        {
          "output_type": "stream",
          "name": "stdout",
          "text": [
            "Mounted at /content/drive\n"
          ]
        }
      ]
    },
    {
      "cell_type": "code",
      "source": [
        "!pip install sacrebleu"
      ],
      "metadata": {
        "id": "H-LR9naKr07U",
        "outputId": "200adcfc-3418-4e29-fe68-1acffb506762",
        "colab": {
          "base_uri": "https://localhost:8080/"
        }
      },
      "execution_count": 38,
      "outputs": [
        {
          "output_type": "stream",
          "name": "stdout",
          "text": [
            "Collecting sacrebleu\n",
            "  Downloading sacrebleu-2.4.0-py3-none-any.whl (106 kB)\n",
            "\u001b[?25l     \u001b[90m━━━━━━━━━━━━━━━━━━━━━━━━━━━━━━━━━━━━━━━━\u001b[0m \u001b[32m0.0/106.3 kB\u001b[0m \u001b[31m?\u001b[0m eta \u001b[36m-:--:--\u001b[0m\r\u001b[2K     \u001b[91m━━━━━━━━━━━\u001b[0m\u001b[91m╸\u001b[0m\u001b[90m━━━━━━━━━━━━━━━━━━━━━━━━━━━━\u001b[0m \u001b[32m30.7/106.3 kB\u001b[0m \u001b[31m1.1 MB/s\u001b[0m eta \u001b[36m0:00:01\u001b[0m\r\u001b[2K     \u001b[91m━━━━━━━━━━━━━━━━━━━━━━━━━━━━━━━━━━\u001b[0m\u001b[91m╸\u001b[0m\u001b[90m━━━━━\u001b[0m \u001b[32m92.2/106.3 kB\u001b[0m \u001b[31m1.3 MB/s\u001b[0m eta \u001b[36m0:00:01\u001b[0m\r\u001b[2K     \u001b[90m━━━━━━━━━━━━━━━━━━━━━━━━━━━━━━━━━━━━━━━━\u001b[0m \u001b[32m106.3/106.3 kB\u001b[0m \u001b[31m1.2 MB/s\u001b[0m eta \u001b[36m0:00:00\u001b[0m\n",
            "\u001b[?25hCollecting portalocker (from sacrebleu)\n",
            "  Downloading portalocker-2.8.2-py3-none-any.whl (17 kB)\n",
            "Requirement already satisfied: regex in /usr/local/lib/python3.10/dist-packages (from sacrebleu) (2023.12.25)\n",
            "Requirement already satisfied: tabulate>=0.8.9 in /usr/local/lib/python3.10/dist-packages (from sacrebleu) (0.9.0)\n",
            "Requirement already satisfied: numpy>=1.17 in /usr/local/lib/python3.10/dist-packages (from sacrebleu) (1.25.2)\n",
            "Collecting colorama (from sacrebleu)\n",
            "  Downloading colorama-0.4.6-py2.py3-none-any.whl (25 kB)\n",
            "Requirement already satisfied: lxml in /usr/local/lib/python3.10/dist-packages (from sacrebleu) (4.9.4)\n",
            "Installing collected packages: portalocker, colorama, sacrebleu\n",
            "Successfully installed colorama-0.4.6 portalocker-2.8.2 sacrebleu-2.4.0\n"
          ]
        }
      ]
    },
    {
      "cell_type": "code",
      "source": [
        "# uncomment if using colab\n",
        "!pip install -q -U git+https://github.com/huggingface/transformers.git\n",
        "!pip install -q -U datasets\n",
        "!pip install -q -U git+https://github.com/huggingface/accelerate.git\n",
        "!pip install -q -U evaluate"
      ],
      "metadata": {
        "id": "UxwRZL9_Vvgj",
        "outputId": "f8ae34a4-5b6b-4535-a827-00e348a51d9e",
        "colab": {
          "base_uri": "https://localhost:8080/"
        }
      },
      "execution_count": 2,
      "outputs": [
        {
          "output_type": "stream",
          "name": "stdout",
          "text": [
            "  Installing build dependencies ... \u001b[?25l\u001b[?25hdone\n",
            "  Getting requirements to build wheel ... \u001b[?25l\u001b[?25hdone\n",
            "  Preparing metadata (pyproject.toml) ... \u001b[?25l\u001b[?25hdone\n",
            "  Building wheel for transformers (pyproject.toml) ... \u001b[?25l\u001b[?25hdone\n",
            "\u001b[2K     \u001b[90m━━━━━━━━━━━━━━━━━━━━━━━━━━━━━━━━━━━━━━━━\u001b[0m \u001b[32m536.7/536.7 kB\u001b[0m \u001b[31m3.2 MB/s\u001b[0m eta \u001b[36m0:00:00\u001b[0m\n",
            "\u001b[2K     \u001b[90m━━━━━━━━━━━━━━━━━━━━━━━━━━━━━━━━━━━━━━━━\u001b[0m \u001b[32m116.3/116.3 kB\u001b[0m \u001b[31m9.4 MB/s\u001b[0m eta \u001b[36m0:00:00\u001b[0m\n",
            "\u001b[2K     \u001b[90m━━━━━━━━━━━━━━━━━━━━━━━━━━━━━━━━━━━━━━━━\u001b[0m \u001b[32m134.8/134.8 kB\u001b[0m \u001b[31m12.4 MB/s\u001b[0m eta \u001b[36m0:00:00\u001b[0m\n",
            "\u001b[?25h  Installing build dependencies ... \u001b[?25l\u001b[?25hdone\n",
            "  Getting requirements to build wheel ... \u001b[?25l\u001b[?25hdone\n",
            "  Preparing metadata (pyproject.toml) ... \u001b[?25l\u001b[?25hdone\n",
            "  Building wheel for accelerate (pyproject.toml) ... \u001b[?25l\u001b[?25hdone\n",
            "\u001b[2K     \u001b[90m━━━━━━━━━━━━━━━━━━━━━━━━━━━━━━━━━━━━━━━━\u001b[0m \u001b[32m84.1/84.1 kB\u001b[0m \u001b[31m1.1 MB/s\u001b[0m eta \u001b[36m0:00:00\u001b[0m\n",
            "\u001b[?25h"
          ]
        }
      ]
    },
    {
      "cell_type": "code",
      "execution_count": 3,
      "metadata": {
        "id": "2rVbJik4VlJ5"
      },
      "outputs": [],
      "source": [
        "import evaluate\n",
        "import transformers\n",
        "import os\n",
        "import json"
      ]
    },
    {
      "cell_type": "code",
      "execution_count": 14,
      "metadata": {
        "id": "rJMU6Ez1VlJ6"
      },
      "outputs": [],
      "source": [
        "# paths to the data\n",
        "# root_path = '..' # comment if using colab\n",
        "root_path = './drive/MyDrive/HandsOn-NLP/' # uncomment if using colab\n",
        "data_path = f'{root_path}/data'\n",
        "french_texts_path = f'{data_path}/chia_criteria_french'\n",
        "chat_gpt_translations_path = f'{data_path}/chia_criteria_french_chat_gpt'\n",
        "t5_translations_path = f'{data_path}/chia_criteria_french_t5'"
      ]
    },
    {
      "cell_type": "code",
      "source": [
        "# load files used for evaluation\n",
        "files = os.listdir(t5_translations_path)"
      ],
      "metadata": {
        "id": "gnQsdpbrWDuT"
      },
      "execution_count": 15,
      "outputs": []
    },
    {
      "cell_type": "code",
      "execution_count": 27,
      "metadata": {
        "id": "5VY2q1yYVlJ7"
      },
      "outputs": [],
      "source": [
        "all_sentences = []\n",
        "all_sentences_t5 = []\n",
        "\n",
        "for file in files:\n",
        "    with open(f'{french_texts_path}/{file}', 'r') as f:\n",
        "        sentences = [line for line in f.readlines() if (line.strip() != '' and line.strip() != '\\n' and len(line.split()) < 500) and len(line.split()) >= 1]\n",
        "    with open(f'{t5_translations_path}/{file}', 'r') as f:\n",
        "        sentences_t5 = [line for line in f.readlines() if (line.strip() != '' and line.strip() != '\\n' and len(line.split()) < 500) and len(line.split()) >= 1]\n",
        "    for i in range(len(sentences)):\n",
        "        if len(sentences[i].split()) < 2 or len(sentences_t5[i].split()) < 2:\n",
        "          continue\n",
        "        all_sentences.append(sentences[i])\n",
        "        all_sentences_t5.append(sentences_t5[i])\n",
        "    if len(sentences) != len(sentences_t5):\n",
        "        print(file)"
      ]
    },
    {
      "cell_type": "code",
      "source": [
        "len(all_sentences), len(all_sentences_t5)"
      ],
      "metadata": {
        "id": "rov3x-0BYk9U",
        "outputId": "201fec36-382c-4cd6-f95e-763456bd5d2e",
        "colab": {
          "base_uri": "https://localhost:8080/"
        }
      },
      "execution_count": 28,
      "outputs": [
        {
          "output_type": "execute_result",
          "data": {
            "text/plain": [
              "(562, 562)"
            ]
          },
          "metadata": {},
          "execution_count": 28
        }
      ]
    },
    {
      "cell_type": "markdown",
      "source": [
        "**Evaluate perplexity for the model used in translations: Helsinki-NLP/opus-mt-en-fr**"
      ],
      "metadata": {
        "id": "1Vc9f2mKW_UI"
      }
    },
    {
      "cell_type": "code",
      "execution_count": 30,
      "metadata": {
        "id": "tfFo-yxuVlJ7",
        "outputId": "848104c6-aae1-4b42-c33c-82a148a4735f",
        "colab": {
          "base_uri": "https://localhost:8080/",
          "height": 105,
          "referenced_widgets": [
            "3677bfc4acc34f68be6ed7a3595ee657",
            "b40cc9442f7343d7952d4c1cddb5776e",
            "fefac13d260d4403b5e7d47f49f25210",
            "e9aefa41b69d433abadc315420f3e3b1",
            "0c86be896f8d42ca9745eb6c7b900e85",
            "caa9d2b06ef444bd9161824e880c3c44",
            "30c187fd47134332ab2683cdee06fcca",
            "d026a721463c47e5a787f99b1c7f17bd",
            "0e97646efdff46ae88199734c852e417",
            "1dc3d368d8344e8ba533c5efe89b95ed",
            "138c922fbc994dc48a1b7345189491ea"
          ]
        }
      },
      "outputs": [
        {
          "output_type": "stream",
          "name": "stderr",
          "text": [
            "/usr/local/lib/python3.10/dist-packages/transformers/models/marian/tokenization_marian.py:197: UserWarning: Recommended: pip install sacremoses.\n",
            "  warnings.warn(\"Recommended: pip install sacremoses.\")\n"
          ]
        },
        {
          "output_type": "display_data",
          "data": {
            "text/plain": [
              "  0%|          | 0/36 [00:00<?, ?it/s]"
            ],
            "application/vnd.jupyter.widget-view+json": {
              "version_major": 2,
              "version_minor": 0,
              "model_id": "3677bfc4acc34f68be6ed7a3595ee657"
            }
          },
          "metadata": {}
        }
      ],
      "source": [
        "perplexity = evaluate.load(\"perplexity\", module_type=\"metric\")\n",
        "\n",
        "results = perplexity.compute(model_id='Helsinki-NLP/opus-mt-en-fr',\n",
        "                             add_start_token=False,\n",
        "                             predictions=all_sentences)"
      ]
    },
    {
      "cell_type": "code",
      "execution_count": 12,
      "metadata": {
        "id": "Z9PaY_eGVlJ8"
      },
      "outputs": [],
      "source": [
        "with open(f'{data_path}/perplexity_results.json', 'w') as f:\n",
        "    json.dump(results, f)"
      ]
    },
    {
      "cell_type": "code",
      "source": [
        "results"
      ],
      "metadata": {
        "id": "4UYGuf48p0_N",
        "outputId": "a8c0b37c-6610-42a9-fc0d-8cb9d66bbf64",
        "colab": {
          "base_uri": "https://localhost:8080/"
        }
      },
      "execution_count": 31,
      "outputs": [
        {
          "output_type": "execute_result",
          "data": {
            "text/plain": [
              "{'perplexities': [2767.919677734375,\n",
              "  3882.803466796875,\n",
              "  5924.3525390625,\n",
              "  2668.077392578125,\n",
              "  3511.810546875,\n",
              "  7572.55859375,\n",
              "  5450.00390625,\n",
              "  19883.9453125,\n",
              "  3232.912109375,\n",
              "  2404.91357421875,\n",
              "  33411.28125,\n",
              "  4324.07275390625,\n",
              "  4135.71875,\n",
              "  10248.9453125,\n",
              "  17318.42578125,\n",
              "  15298.943359375,\n",
              "  8263.8330078125,\n",
              "  3070.6982421875,\n",
              "  2510.333251953125,\n",
              "  4591.447265625,\n",
              "  9625.0732421875,\n",
              "  5835.56396484375,\n",
              "  2043.77099609375,\n",
              "  11369.9033203125,\n",
              "  18313.9140625,\n",
              "  12417.08203125,\n",
              "  5757.64697265625,\n",
              "  3120.17041015625,\n",
              "  7309.134765625,\n",
              "  4009.886962890625,\n",
              "  3443.048583984375,\n",
              "  17459.6328125,\n",
              "  4750.650390625,\n",
              "  1764.1854248046875,\n",
              "  617.107421875,\n",
              "  6885.32568359375,\n",
              "  50230.61328125,\n",
              "  8752.419921875,\n",
              "  9234.546875,\n",
              "  4059.987548828125,\n",
              "  19092.736328125,\n",
              "  8542.400390625,\n",
              "  31784.787109375,\n",
              "  27625.05859375,\n",
              "  35867.265625,\n",
              "  1890.568603515625,\n",
              "  1249.9429931640625,\n",
              "  3087.9482421875,\n",
              "  10904.8271484375,\n",
              "  10909.2265625,\n",
              "  4262.95361328125,\n",
              "  5626.00390625,\n",
              "  4791.12109375,\n",
              "  6157.89111328125,\n",
              "  4803.9365234375,\n",
              "  28179.076171875,\n",
              "  5890.88720703125,\n",
              "  6497.271484375,\n",
              "  10708.1962890625,\n",
              "  26999.82421875,\n",
              "  15478.662109375,\n",
              "  7590.05517578125,\n",
              "  46773.796875,\n",
              "  64579.1171875,\n",
              "  3789.181640625,\n",
              "  13167.25,\n",
              "  2761.840576171875,\n",
              "  4750.25146484375,\n",
              "  40506.8046875,\n",
              "  2989.353271484375,\n",
              "  2091.82763671875,\n",
              "  20573.80859375,\n",
              "  3303.895751953125,\n",
              "  21579.72265625,\n",
              "  7236.150390625,\n",
              "  10101.5263671875,\n",
              "  69362.4140625,\n",
              "  23627.3203125,\n",
              "  9211.37890625,\n",
              "  17503.86328125,\n",
              "  5912.939453125,\n",
              "  38792.89453125,\n",
              "  6426.5078125,\n",
              "  3002.533447265625,\n",
              "  3584.14306640625,\n",
              "  14869.552734375,\n",
              "  35147.07421875,\n",
              "  31895.34765625,\n",
              "  8736.150390625,\n",
              "  6807.8095703125,\n",
              "  11194.91015625,\n",
              "  1708.6103515625,\n",
              "  2148.536376953125,\n",
              "  10526.3984375,\n",
              "  26479.166015625,\n",
              "  11785.76953125,\n",
              "  5043.8388671875,\n",
              "  4619.3896484375,\n",
              "  15701.6630859375,\n",
              "  1917.090087890625,\n",
              "  8392.9443359375,\n",
              "  6428.2548828125,\n",
              "  7265.171875,\n",
              "  10315.2705078125,\n",
              "  84911.046875,\n",
              "  20566.216796875,\n",
              "  17897.96484375,\n",
              "  18722.9140625,\n",
              "  3949.08251953125,\n",
              "  25289.71484375,\n",
              "  18499.544921875,\n",
              "  13199.662109375,\n",
              "  2641.049072265625,\n",
              "  1607.2177734375,\n",
              "  3277.487548828125,\n",
              "  27619.52734375,\n",
              "  56036.5625,\n",
              "  6049.41552734375,\n",
              "  35039.640625,\n",
              "  9354.8837890625,\n",
              "  3052.802001953125,\n",
              "  8437.84765625,\n",
              "  1724.1761474609375,\n",
              "  2590.1162109375,\n",
              "  10783.3232421875,\n",
              "  12682.0,\n",
              "  4456.09912109375,\n",
              "  1617.1954345703125,\n",
              "  18687.380859375,\n",
              "  30913.67578125,\n",
              "  103572.09375,\n",
              "  7640.09228515625,\n",
              "  48811.07421875,\n",
              "  12700.1904296875,\n",
              "  4672.166015625,\n",
              "  14508.5,\n",
              "  13265.9033203125,\n",
              "  7848.41748046875,\n",
              "  2471.330322265625,\n",
              "  6323.55615234375,\n",
              "  11703.021484375,\n",
              "  2752.9091796875,\n",
              "  15908.82421875,\n",
              "  23622.6796875,\n",
              "  16501.26171875,\n",
              "  6439.974609375,\n",
              "  8862.42578125,\n",
              "  3937.510986328125,\n",
              "  2068.385009765625,\n",
              "  11134.1884765625,\n",
              "  11621.46484375,\n",
              "  1121.1219482421875,\n",
              "  4285.70751953125,\n",
              "  4565.89404296875,\n",
              "  10998.4287109375,\n",
              "  10209.2509765625,\n",
              "  2069.251220703125,\n",
              "  8713.443359375,\n",
              "  1593.55029296875,\n",
              "  2642.5556640625,\n",
              "  2327.605712890625,\n",
              "  18569.71875,\n",
              "  5826.67236328125,\n",
              "  1507.979248046875,\n",
              "  3542.9541015625,\n",
              "  17046.529296875,\n",
              "  2757.895263671875,\n",
              "  1553.1917724609375,\n",
              "  2936.859130859375,\n",
              "  4018.1171875,\n",
              "  15846.9521484375,\n",
              "  21192.42578125,\n",
              "  1641.7392578125,\n",
              "  1100.2330322265625,\n",
              "  59506.8046875,\n",
              "  10427.5322265625,\n",
              "  4810.76318359375,\n",
              "  6366.88330078125,\n",
              "  12352.7587890625,\n",
              "  15808.869140625,\n",
              "  10132.0625,\n",
              "  10685.40625,\n",
              "  15262.2490234375,\n",
              "  4564.740234375,\n",
              "  6432.2529296875,\n",
              "  38891.3515625,\n",
              "  10618.806640625,\n",
              "  14259.5302734375,\n",
              "  11616.466796875,\n",
              "  29425.09765625,\n",
              "  4076.13427734375,\n",
              "  9265.916015625,\n",
              "  13301.7802734375,\n",
              "  9393.4873046875,\n",
              "  2842.084228515625,\n",
              "  10098.607421875,\n",
              "  305041.59375,\n",
              "  27324.447265625,\n",
              "  25890.208984375,\n",
              "  13322.61328125,\n",
              "  16370.662109375,\n",
              "  19267.45703125,\n",
              "  3647.111083984375,\n",
              "  7674.6337890625,\n",
              "  1270535.25,\n",
              "  16340.1845703125,\n",
              "  5251.013671875,\n",
              "  16561.548828125,\n",
              "  120925.1015625,\n",
              "  3921.22509765625,\n",
              "  6292.1728515625,\n",
              "  22474.654296875,\n",
              "  6851.6767578125,\n",
              "  8371.44140625,\n",
              "  11806.705078125,\n",
              "  3206.263916015625,\n",
              "  6640.11279296875,\n",
              "  2990.533935546875,\n",
              "  2298.257080078125,\n",
              "  34331.6484375,\n",
              "  8286.34765625,\n",
              "  37188.79296875,\n",
              "  3763.64013671875,\n",
              "  8863.533203125,\n",
              "  4669.02978515625,\n",
              "  5970.88623046875,\n",
              "  4852.63916015625,\n",
              "  10727.8720703125,\n",
              "  5352.05859375,\n",
              "  2101.92431640625,\n",
              "  21943.9609375,\n",
              "  6705.63330078125,\n",
              "  6333.478515625,\n",
              "  2798.977294921875,\n",
              "  4651.78515625,\n",
              "  5443.55224609375,\n",
              "  4180.1298828125,\n",
              "  3264.30517578125,\n",
              "  4533.55615234375,\n",
              "  1808.3726806640625,\n",
              "  8919.0302734375,\n",
              "  4674.01953125,\n",
              "  10685.95703125,\n",
              "  4263.54296875,\n",
              "  5709.6328125,\n",
              "  23293.0,\n",
              "  6568.47607421875,\n",
              "  9586.5615234375,\n",
              "  21710.904296875,\n",
              "  5191.228515625,\n",
              "  1680.2193603515625,\n",
              "  4872.630859375,\n",
              "  4112.18017578125,\n",
              "  7022.35205078125,\n",
              "  1263.167724609375,\n",
              "  7289.3720703125,\n",
              "  10676.8701171875,\n",
              "  11109.189453125,\n",
              "  4324.8935546875,\n",
              "  4281.328125,\n",
              "  9570.8759765625,\n",
              "  7404.67822265625,\n",
              "  30014.728515625,\n",
              "  4051.393310546875,\n",
              "  4487.7177734375,\n",
              "  5991.6494140625,\n",
              "  4986.08935546875,\n",
              "  69359.90625,\n",
              "  2553.998779296875,\n",
              "  1825.78466796875,\n",
              "  4637.00048828125,\n",
              "  118291.5078125,\n",
              "  2006.6488037109375,\n",
              "  1682.407958984375,\n",
              "  7227.42626953125,\n",
              "  6044.1103515625,\n",
              "  2544.50146484375,\n",
              "  1970.6678466796875,\n",
              "  4131.875,\n",
              "  4617.0947265625,\n",
              "  37573.875,\n",
              "  4529.48095703125,\n",
              "  9616.1826171875,\n",
              "  3341.597900390625,\n",
              "  18719.71875,\n",
              "  15630.8896484375,\n",
              "  3668.466796875,\n",
              "  8336.5537109375,\n",
              "  3919.56884765625,\n",
              "  3702.235107421875,\n",
              "  5453.373046875,\n",
              "  6207.64990234375,\n",
              "  7371.5068359375,\n",
              "  15413.8037109375,\n",
              "  3815.59130859375,\n",
              "  3685.21728515625,\n",
              "  3890.060546875,\n",
              "  3265.441650390625,\n",
              "  3918.9521484375,\n",
              "  7062.76416015625,\n",
              "  2613.951904296875,\n",
              "  2448.093505859375,\n",
              "  10612.4287109375,\n",
              "  4914.18310546875,\n",
              "  6755.9580078125,\n",
              "  3737.675537109375,\n",
              "  2951.375,\n",
              "  8373.7646484375,\n",
              "  11052.13671875,\n",
              "  6858.63916015625,\n",
              "  8615.8388671875,\n",
              "  80356.5234375,\n",
              "  36177.234375,\n",
              "  2714.079345703125,\n",
              "  33105.65234375,\n",
              "  52213.24609375,\n",
              "  7522.798828125,\n",
              "  7747.26611328125,\n",
              "  4935.3740234375,\n",
              "  1350.0059814453125,\n",
              "  15870.4248046875,\n",
              "  16275.78125,\n",
              "  20762.0234375,\n",
              "  7112.76318359375,\n",
              "  4823.25390625,\n",
              "  5163.3271484375,\n",
              "  11941.7099609375,\n",
              "  82213.890625,\n",
              "  7846.51611328125,\n",
              "  4756.70703125,\n",
              "  4537.25,\n",
              "  7763.57470703125,\n",
              "  8213.4306640625,\n",
              "  9804.8916015625,\n",
              "  6418.43505859375,\n",
              "  8047.6044921875,\n",
              "  15973.876953125,\n",
              "  3574.591796875,\n",
              "  2044.2095947265625,\n",
              "  4225.18310546875,\n",
              "  23420.703125,\n",
              "  9374.9072265625,\n",
              "  4207.775390625,\n",
              "  5866.54443359375,\n",
              "  7521.5146484375,\n",
              "  24792.8828125,\n",
              "  5793.28857421875,\n",
              "  7023.1357421875,\n",
              "  4477.146484375,\n",
              "  11156.626953125,\n",
              "  4777.26904296875,\n",
              "  3080.521240234375,\n",
              "  7924.92333984375,\n",
              "  14743.5966796875,\n",
              "  2713.942138671875,\n",
              "  4065.318603515625,\n",
              "  8329.583984375,\n",
              "  3560.0107421875,\n",
              "  5931.79833984375,\n",
              "  17765.712890625,\n",
              "  4392.212890625,\n",
              "  104389.3984375,\n",
              "  14905.3017578125,\n",
              "  4197.3388671875,\n",
              "  18320.4296875,\n",
              "  6899.21435546875,\n",
              "  8224.583984375,\n",
              "  8242.4560546875,\n",
              "  1292.8060302734375,\n",
              "  5819.84130859375,\n",
              "  12892.26953125,\n",
              "  1267.6231689453125,\n",
              "  7692.38818359375,\n",
              "  2302.1748046875,\n",
              "  3905.39404296875,\n",
              "  9490.3291015625,\n",
              "  10550.1162109375,\n",
              "  1438.494384765625,\n",
              "  9089.869140625,\n",
              "  5179.49365234375,\n",
              "  7197.94482421875,\n",
              "  4630.68994140625,\n",
              "  8367.8251953125,\n",
              "  5041.16064453125,\n",
              "  4067.3623046875,\n",
              "  56036.5625,\n",
              "  26827.037109375,\n",
              "  8123.5341796875,\n",
              "  3698.007568359375,\n",
              "  3381.04248046875,\n",
              "  1660.53564453125,\n",
              "  2630.895751953125,\n",
              "  9662.2841796875,\n",
              "  6902.228515625,\n",
              "  6928.38427734375,\n",
              "  18048.044921875,\n",
              "  13469.298828125,\n",
              "  8176.33935546875,\n",
              "  8288.853515625,\n",
              "  1070.1585693359375,\n",
              "  17741.02734375,\n",
              "  6289.88671875,\n",
              "  5851.859375,\n",
              "  22032.412109375,\n",
              "  14363.5595703125,\n",
              "  5842.88134765625,\n",
              "  49755.94140625,\n",
              "  4657.3828125,\n",
              "  6031.080078125,\n",
              "  4013.655517578125,\n",
              "  17498.021484375,\n",
              "  1099.07373046875,\n",
              "  5182.45849609375,\n",
              "  14574.3583984375,\n",
              "  13152.390625,\n",
              "  3075.645263671875,\n",
              "  7329.66357421875,\n",
              "  20339.16015625,\n",
              "  9371.564453125,\n",
              "  2341.60009765625,\n",
              "  12875.251953125,\n",
              "  4663.49853515625,\n",
              "  2178.829345703125,\n",
              "  10443.46484375,\n",
              "  3289.91357421875,\n",
              "  3206.866455078125,\n",
              "  5179.177734375,\n",
              "  1289.9124755859375,\n",
              "  10509.767578125,\n",
              "  42631.99609375,\n",
              "  14341.0576171875,\n",
              "  15572.8017578125,\n",
              "  2933.564453125,\n",
              "  2054.728759765625,\n",
              "  29201.177734375,\n",
              "  16994.408203125,\n",
              "  9617.5771484375,\n",
              "  31334.384765625,\n",
              "  2073.587158203125,\n",
              "  4354.20654296875,\n",
              "  59285.4375,\n",
              "  5639.212890625,\n",
              "  24600.060546875,\n",
              "  3897.126953125,\n",
              "  47403.02734375,\n",
              "  12497.5224609375,\n",
              "  6960.82958984375,\n",
              "  3976.20849609375,\n",
              "  3058.98046875,\n",
              "  7434.2265625,\n",
              "  7938.41796875,\n",
              "  30302.484375,\n",
              "  26079.708984375,\n",
              "  9112.8623046875,\n",
              "  4801.78369140625,\n",
              "  3628.54345703125,\n",
              "  4118.37353515625,\n",
              "  20858.873046875,\n",
              "  4694.134765625,\n",
              "  20705.115234375,\n",
              "  27541.697265625,\n",
              "  1457.2801513671875,\n",
              "  26646.63671875,\n",
              "  9572.1904296875,\n",
              "  2115.5087890625,\n",
              "  32960.73828125,\n",
              "  2446.914794921875,\n",
              "  25082.046875,\n",
              "  26838.935546875,\n",
              "  6471.2314453125,\n",
              "  5409.8408203125,\n",
              "  7881.9833984375,\n",
              "  9059.69140625,\n",
              "  1957.2591552734375,\n",
              "  6445.16650390625,\n",
              "  1581.869384765625,\n",
              "  3656.887451171875,\n",
              "  6755.8935546875,\n",
              "  19723.318359375,\n",
              "  11173.109375,\n",
              "  10034.66015625,\n",
              "  2995.96044921875,\n",
              "  47904.19921875,\n",
              "  8091.43115234375,\n",
              "  12884.8818359375,\n",
              "  4550.6923828125,\n",
              "  23255.201171875,\n",
              "  8036.31494140625,\n",
              "  27457.72265625,\n",
              "  4685.4716796875,\n",
              "  17263.974609375,\n",
              "  24819.42578125,\n",
              "  5900.43994140625,\n",
              "  26152.859375,\n",
              "  15339.630859375,\n",
              "  24454.125,\n",
              "  6245.08837890625,\n",
              "  5035.14013671875,\n",
              "  11609.1025390625,\n",
              "  64259.16796875,\n",
              "  2038.8885498046875,\n",
              "  14328.04296875,\n",
              "  13733.5419921875,\n",
              "  36226.46484375,\n",
              "  2582.309814453125,\n",
              "  2808.7197265625,\n",
              "  8041.4208984375,\n",
              "  23792.904296875,\n",
              "  28963.958984375,\n",
              "  17561.0625,\n",
              "  10628.1171875,\n",
              "  3650.591064453125,\n",
              "  2342.4521484375,\n",
              "  105830.1328125,\n",
              "  7138.50439453125,\n",
              "  6141.2998046875,\n",
              "  27831.080078125,\n",
              "  15037.28515625,\n",
              "  4341.49755859375,\n",
              "  2089.77978515625,\n",
              "  6989.31982421875,\n",
              "  32848.39453125,\n",
              "  10471.529296875,\n",
              "  34119.2265625,\n",
              "  27755.353515625,\n",
              "  17834.0546875,\n",
              "  24520.025390625,\n",
              "  4106.82666015625,\n",
              "  1160.1138916015625,\n",
              "  20262.55078125,\n",
              "  2824.302734375,\n",
              "  1622.6805419921875,\n",
              "  10024.1298828125,\n",
              "  20027.974609375,\n",
              "  3121.953125,\n",
              "  8891.4716796875,\n",
              "  4437.6005859375,\n",
              "  11427.6923828125,\n",
              "  9248.6484375,\n",
              "  5917.892578125,\n",
              "  20550.0625,\n",
              "  30187.71484375,\n",
              "  14485.48046875,\n",
              "  7288.2041015625,\n",
              "  6137.76318359375,\n",
              "  13123.5224609375,\n",
              "  7761.19091796875,\n",
              "  8817.55078125,\n",
              "  2068.3515625,\n",
              "  20737.505859375,\n",
              "  2375.15185546875,\n",
              "  16794.767578125,\n",
              "  14270.9716796875,\n",
              "  3228.475341796875,\n",
              "  2389.9345703125,\n",
              "  6645.009765625,\n",
              "  4466.0673828125,\n",
              "  27398.396484375,\n",
              "  52092.0859375,\n",
              "  12530.6767578125,\n",
              "  88124.1796875,\n",
              "  70960.7265625],\n",
              " 'mean_perplexity': 15600.680240074511}"
            ]
          },
          "metadata": {},
          "execution_count": 31
        }
      ]
    },
    {
      "cell_type": "markdown",
      "source": [
        "**Evaluate perplexity for t5 model**"
      ],
      "metadata": {
        "id": "Xf1QQLd9XY0P"
      }
    },
    {
      "cell_type": "code",
      "source": [
        "results_t5 = perplexity.compute(model_id='google-t5/t5-small',\n",
        "                             add_start_token=False,\n",
        "                             predictions=all_sentences_t5)"
      ],
      "metadata": {
        "id": "S_LKcFBFXXo2",
        "outputId": "0898ccb8-edbf-44a7-b6de-f7aaf51aa63e",
        "colab": {
          "base_uri": "https://localhost:8080/",
          "height": 682,
          "referenced_widgets": [
            "697cceb0fadc4aa58cf044769208a62f",
            "1e696dfbda5842d19ae31b0b269ab53b",
            "3185c4fbbd2543858698d067d59df437",
            "79cad7384b904eefb4bbd696be8f0fd7",
            "9b9d010d12cd41779a37a6d8499f5fa2",
            "8c5c4f3243f84cf1b836a66860cf68ba",
            "424737e710bd497884f7bed39ba72088",
            "72b968a1768b490d81e3282f387462cb",
            "b3692ecd92eb4dd39f97dd445cd27d8c",
            "78dc1143015f464ba62013a32ff75a3c",
            "c616f083faa845f3905673e56c4d36ee"
          ]
        }
      },
      "execution_count": 32,
      "outputs": [
        {
          "output_type": "display_data",
          "data": {
            "text/plain": [
              "config.json:   0%|          | 0.00/1.21k [00:00<?, ?B/s]"
            ],
            "application/vnd.jupyter.widget-view+json": {
              "version_major": 2,
              "version_minor": 0,
              "model_id": "697cceb0fadc4aa58cf044769208a62f"
            }
          },
          "metadata": {}
        },
        {
          "output_type": "error",
          "ename": "ValueError",
          "evalue": "Unrecognized configuration class <class 'transformers.models.t5.configuration_t5.T5Config'> for this kind of AutoModel: AutoModelForCausalLM.\nModel type should be one of BartConfig, BertConfig, BertGenerationConfig, BigBirdConfig, BigBirdPegasusConfig, BioGptConfig, BlenderbotConfig, BlenderbotSmallConfig, BloomConfig, CamembertConfig, LlamaConfig, CodeGenConfig, CpmAntConfig, CTRLConfig, Data2VecTextConfig, ElectraConfig, ErnieConfig, FalconConfig, FuyuConfig, GemmaConfig, GitConfig, GPT2Config, GPT2Config, GPTBigCodeConfig, GPTNeoConfig, GPTNeoXConfig, GPTNeoXJapaneseConfig, GPTJConfig, LlamaConfig, MarianConfig, MBartConfig, MegaConfig, MegatronBertConfig, MistralConfig, MixtralConfig, MptConfig, MusicgenConfig, MvpConfig, OpenLlamaConfig, OpenAIGPTConfig, OPTConfig, PegasusConfig, PersimmonConfig, PhiConfig, PLBartConfig, ProphetNetConfig, QDQBertConfig, Qwen2Config, ReformerConfig, RemBertConfig, RobertaConfig, RobertaPreLayerNormConfig, RoCBertConfig, RoFormerConfig, RwkvConfig, Speech2Text2Config, StableLmConfig, TransfoXLConfig, TrOCRConfig, WhisperConfig, XGLMConfig, XLMConfig, XLMProphetNetConfig, XLMRobertaConfig, XLMRobertaXLConfig, XLNetConfig, XmodConfig.",
          "traceback": [
            "\u001b[0;31m---------------------------------------------------------------------------\u001b[0m",
            "\u001b[0;31mValueError\u001b[0m                                Traceback (most recent call last)",
            "\u001b[0;32m<ipython-input-32-379762e05096>\u001b[0m in \u001b[0;36m<cell line: 1>\u001b[0;34m()\u001b[0m\n\u001b[0;32m----> 1\u001b[0;31m results_t5 = perplexity.compute(model_id='google-t5/t5-small',\n\u001b[0m\u001b[1;32m      2\u001b[0m                              \u001b[0madd_start_token\u001b[0m\u001b[0;34m=\u001b[0m\u001b[0;32mFalse\u001b[0m\u001b[0;34m,\u001b[0m\u001b[0;34m\u001b[0m\u001b[0;34m\u001b[0m\u001b[0m\n\u001b[1;32m      3\u001b[0m                              predictions=all_sentences_t5)\n",
            "\u001b[0;32m/usr/local/lib/python3.10/dist-packages/evaluate/module.py\u001b[0m in \u001b[0;36mcompute\u001b[0;34m(self, predictions, references, **kwargs)\u001b[0m\n\u001b[1;32m    460\u001b[0m             \u001b[0minputs\u001b[0m \u001b[0;34m=\u001b[0m \u001b[0;34m{\u001b[0m\u001b[0minput_name\u001b[0m\u001b[0;34m:\u001b[0m \u001b[0mself\u001b[0m\u001b[0;34m.\u001b[0m\u001b[0mdata\u001b[0m\u001b[0;34m[\u001b[0m\u001b[0minput_name\u001b[0m\u001b[0;34m]\u001b[0m \u001b[0;32mfor\u001b[0m \u001b[0minput_name\u001b[0m \u001b[0;32min\u001b[0m \u001b[0mself\u001b[0m\u001b[0;34m.\u001b[0m\u001b[0m_feature_names\u001b[0m\u001b[0;34m(\u001b[0m\u001b[0;34m)\u001b[0m\u001b[0;34m}\u001b[0m\u001b[0;34m\u001b[0m\u001b[0;34m\u001b[0m\u001b[0m\n\u001b[1;32m    461\u001b[0m             \u001b[0;32mwith\u001b[0m \u001b[0mtemp_seed\u001b[0m\u001b[0;34m(\u001b[0m\u001b[0mself\u001b[0m\u001b[0;34m.\u001b[0m\u001b[0mseed\u001b[0m\u001b[0;34m)\u001b[0m\u001b[0;34m:\u001b[0m\u001b[0;34m\u001b[0m\u001b[0;34m\u001b[0m\u001b[0m\n\u001b[0;32m--> 462\u001b[0;31m                 \u001b[0moutput\u001b[0m \u001b[0;34m=\u001b[0m \u001b[0mself\u001b[0m\u001b[0;34m.\u001b[0m\u001b[0m_compute\u001b[0m\u001b[0;34m(\u001b[0m\u001b[0;34m**\u001b[0m\u001b[0minputs\u001b[0m\u001b[0;34m,\u001b[0m \u001b[0;34m**\u001b[0m\u001b[0mcompute_kwargs\u001b[0m\u001b[0;34m)\u001b[0m\u001b[0;34m\u001b[0m\u001b[0;34m\u001b[0m\u001b[0m\n\u001b[0m\u001b[1;32m    463\u001b[0m \u001b[0;34m\u001b[0m\u001b[0m\n\u001b[1;32m    464\u001b[0m             \u001b[0;32mif\u001b[0m \u001b[0mself\u001b[0m\u001b[0;34m.\u001b[0m\u001b[0mbuf_writer\u001b[0m \u001b[0;32mis\u001b[0m \u001b[0;32mnot\u001b[0m \u001b[0;32mNone\u001b[0m\u001b[0;34m:\u001b[0m\u001b[0;34m\u001b[0m\u001b[0;34m\u001b[0m\u001b[0m\n",
            "\u001b[0;32m~/.cache/huggingface/modules/evaluate_modules/metrics/evaluate-metric--perplexity/8ab643ad86f568b7d1d5f7822373fa7401ff5ff0297ccf114b0ca6a33be96bc0/perplexity.py\u001b[0m in \u001b[0;36m_compute\u001b[0;34m(self, predictions, model_id, batch_size, add_start_token, device, max_length)\u001b[0m\n\u001b[1;32m    112\u001b[0m             \u001b[0mdevice\u001b[0m \u001b[0;34m=\u001b[0m \u001b[0;34m\"cuda\"\u001b[0m \u001b[0;32mif\u001b[0m \u001b[0mtorch\u001b[0m\u001b[0;34m.\u001b[0m\u001b[0mcuda\u001b[0m\u001b[0;34m.\u001b[0m\u001b[0mis_available\u001b[0m\u001b[0;34m(\u001b[0m\u001b[0;34m)\u001b[0m \u001b[0;32melse\u001b[0m \u001b[0;34m\"cpu\"\u001b[0m\u001b[0;34m\u001b[0m\u001b[0;34m\u001b[0m\u001b[0m\n\u001b[1;32m    113\u001b[0m \u001b[0;34m\u001b[0m\u001b[0m\n\u001b[0;32m--> 114\u001b[0;31m         \u001b[0mmodel\u001b[0m \u001b[0;34m=\u001b[0m \u001b[0mAutoModelForCausalLM\u001b[0m\u001b[0;34m.\u001b[0m\u001b[0mfrom_pretrained\u001b[0m\u001b[0;34m(\u001b[0m\u001b[0mmodel_id\u001b[0m\u001b[0;34m)\u001b[0m\u001b[0;34m\u001b[0m\u001b[0;34m\u001b[0m\u001b[0m\n\u001b[0m\u001b[1;32m    115\u001b[0m         \u001b[0mmodel\u001b[0m \u001b[0;34m=\u001b[0m \u001b[0mmodel\u001b[0m\u001b[0;34m.\u001b[0m\u001b[0mto\u001b[0m\u001b[0;34m(\u001b[0m\u001b[0mdevice\u001b[0m\u001b[0;34m)\u001b[0m\u001b[0;34m\u001b[0m\u001b[0;34m\u001b[0m\u001b[0m\n\u001b[1;32m    116\u001b[0m \u001b[0;34m\u001b[0m\u001b[0m\n",
            "\u001b[0;32m/usr/local/lib/python3.10/dist-packages/transformers/models/auto/auto_factory.py\u001b[0m in \u001b[0;36mfrom_pretrained\u001b[0;34m(cls, pretrained_model_name_or_path, *model_args, **kwargs)\u001b[0m\n\u001b[1;32m    562\u001b[0m                 \u001b[0mpretrained_model_name_or_path\u001b[0m\u001b[0;34m,\u001b[0m \u001b[0;34m*\u001b[0m\u001b[0mmodel_args\u001b[0m\u001b[0;34m,\u001b[0m \u001b[0mconfig\u001b[0m\u001b[0;34m=\u001b[0m\u001b[0mconfig\u001b[0m\u001b[0;34m,\u001b[0m \u001b[0;34m**\u001b[0m\u001b[0mhub_kwargs\u001b[0m\u001b[0;34m,\u001b[0m \u001b[0;34m**\u001b[0m\u001b[0mkwargs\u001b[0m\u001b[0;34m\u001b[0m\u001b[0;34m\u001b[0m\u001b[0m\n\u001b[1;32m    563\u001b[0m             )\n\u001b[0;32m--> 564\u001b[0;31m         raise ValueError(\n\u001b[0m\u001b[1;32m    565\u001b[0m             \u001b[0;34mf\"Unrecognized configuration class {config.__class__} for this kind of AutoModel: {cls.__name__}.\\n\"\u001b[0m\u001b[0;34m\u001b[0m\u001b[0;34m\u001b[0m\u001b[0m\n\u001b[1;32m    566\u001b[0m             \u001b[0;34mf\"Model type should be one of {', '.join(c.__name__ for c in cls._model_mapping.keys())}.\"\u001b[0m\u001b[0;34m\u001b[0m\u001b[0;34m\u001b[0m\u001b[0m\n",
            "\u001b[0;31mValueError\u001b[0m: Unrecognized configuration class <class 'transformers.models.t5.configuration_t5.T5Config'> for this kind of AutoModel: AutoModelForCausalLM.\nModel type should be one of BartConfig, BertConfig, BertGenerationConfig, BigBirdConfig, BigBirdPegasusConfig, BioGptConfig, BlenderbotConfig, BlenderbotSmallConfig, BloomConfig, CamembertConfig, LlamaConfig, CodeGenConfig, CpmAntConfig, CTRLConfig, Data2VecTextConfig, ElectraConfig, ErnieConfig, FalconConfig, FuyuConfig, GemmaConfig, GitConfig, GPT2Config, GPT2Config, GPTBigCodeConfig, GPTNeoConfig, GPTNeoXConfig, GPTNeoXJapaneseConfig, GPTJConfig, LlamaConfig, MarianConfig, MBartConfig, MegaConfig, MegatronBertConfig, MistralConfig, MixtralConfig, MptConfig, MusicgenConfig, MvpConfig, OpenLlamaConfig, OpenAIGPTConfig, OPTConfig, PegasusConfig, PersimmonConfig, PhiConfig, PLBartConfig, ProphetNetConfig, QDQBertConfig, Qwen2Config, ReformerConfig, RemBertConfig, RobertaConfig, RobertaPreLayerNormConfig, RoCBertConfig, RoFormerConfig, RwkvConfig, Speech2Text2Config, StableLmConfig, TransfoXLConfig, TrOCRConfig, WhisperConfig, XGLMConfig, XLMConfig, XLMProphetNetConfig, XLMRobertaConfig, XLMRobertaXLConfig, XLNetConfig, XmodConfig."
          ]
        }
      ]
    },
    {
      "cell_type": "code",
      "source": [
        "with open(f'{data_path}/perplexity_results_gpt2.json', 'w') as f:\n",
        "    json.dump(results_gpt2, f)"
      ],
      "metadata": {
        "id": "kyT8WBgyXtny"
      },
      "execution_count": null,
      "outputs": []
    },
    {
      "cell_type": "markdown",
      "metadata": {
        "id": "0XAUBnBAVlJ8"
      },
      "source": [
        "**BLEU evaluation**\n",
        "\n",
        "We are going to use some translations from *chatGPT* as reference to get the BLEU score for the translations used in our task."
      ]
    },
    {
      "cell_type": "code",
      "execution_count": null,
      "metadata": {
        "id": "DkPyqarrVlJ9"
      },
      "outputs": [],
      "source": [
        "# # get chat_gpt translations\n",
        "# files_gpt = os.listdir(chat_gpt_translations_path)\n",
        "\n",
        "# all_sentences_gpt = []\n",
        "# all_sentences_to_evaluate = []\n",
        "# for file in files_gpt:\n",
        "#     with open(f'{chat_gpt_translations_path}/{file}', 'r') as f:\n",
        "#         all_sentences_gpt.extend([line for line in f.readlines() if (line.strip() != '' and line.strip() != '\\n' and len(line.split()) < 500) and len(line.split()) >= 3])\n",
        "#     with open(f'{french_texts_path}/{file}', 'r') as f:\n",
        "#         all_sentences_to_evaluate.extend([line for line in f.readlines() if (line.strip() != '' and line.strip() != '\\n' and len(line.split()) < 500) and len(line.split()) >= 3])"
      ]
    },
    {
      "cell_type": "code",
      "execution_count": 34,
      "metadata": {
        "id": "gxYKJll0VlJ9"
      },
      "outputs": [],
      "source": [
        "bleu = evaluate.load(\"bleu\")\n",
        "results_bleu = bleu.compute(predictions=all_sentences, references=all_sentences_t5)"
      ]
    },
    {
      "cell_type": "code",
      "source": [
        "results_bleu"
      ],
      "metadata": {
        "id": "1XCT7hLlroQa",
        "outputId": "0b5008b2-bce5-468a-f70e-96edcc23452e",
        "colab": {
          "base_uri": "https://localhost:8080/"
        }
      },
      "execution_count": 35,
      "outputs": [
        {
          "output_type": "execute_result",
          "data": {
            "text/plain": [
              "{'bleu': 0.5269812474607563,\n",
              " 'precisions': [0.732744340143567,\n",
              "  0.5725891910985518,\n",
              "  0.4696759551128483,\n",
              "  0.39136924955896324],\n",
              " 'brevity_penalty': 1.0,\n",
              " 'length_ratio': 1.0384174311926606,\n",
              " 'translation_length': 9055,\n",
              " 'reference_length': 8720}"
            ]
          },
          "metadata": {},
          "execution_count": 35
        }
      ]
    },
    {
      "cell_type": "code",
      "execution_count": 36,
      "metadata": {
        "id": "eOz69cFEVlJ-"
      },
      "outputs": [],
      "source": [
        "# save results\n",
        "with open(f'{data_path}/bleu_results.json', 'w') as f:\n",
        "    json.dump(results_bleu, f)"
      ]
    },
    {
      "cell_type": "markdown",
      "metadata": {
        "id": "09kyWXl6VlJ-"
      },
      "source": [
        "**TER(Translation Edit Rate) evaluation**\n",
        "\n",
        "We will use the same approach as for BLEU score case. (using *chatGPT* translations as reference)"
      ]
    },
    {
      "cell_type": "code",
      "execution_count": 39,
      "metadata": {
        "id": "W14sY-RIVlJ-"
      },
      "outputs": [],
      "source": [
        "ter = evaluate.load(\"ter\")\n",
        "results_ter = ter.compute(predictions=all_sentences, references=all_sentences_t5)"
      ]
    },
    {
      "cell_type": "code",
      "source": [
        "results_ter"
      ],
      "metadata": {
        "id": "w-Z1nlOwr9Ye",
        "outputId": "7f87a227-71cc-4a16-e6e2-7c91a174e212",
        "colab": {
          "base_uri": "https://localhost:8080/"
        }
      },
      "execution_count": 40,
      "outputs": [
        {
          "output_type": "execute_result",
          "data": {
            "text/plain": [
              "{'score': 39.56783563584839, 'num_edits': 3351, 'ref_length': 8469.0}"
            ]
          },
          "metadata": {},
          "execution_count": 40
        }
      ]
    },
    {
      "cell_type": "code",
      "execution_count": 41,
      "metadata": {
        "id": "LprnJyGWVlJ-"
      },
      "outputs": [],
      "source": [
        "# save results\n",
        "with open(f'{data_path}/ter_results.json', 'w') as f:\n",
        "    json.dump(results_ter, f)"
      ]
    },
    {
      "cell_type": "markdown",
      "metadata": {
        "id": "s0C_eWRQVlJ-"
      },
      "source": [
        "**METEOR (Metric for Evaluation of Translation with Explicit ORdering)**\n",
        "\n",
        "We will use the same approach as for BLEU score case. (using *chatGPT* translations as reference)"
      ]
    },
    {
      "cell_type": "code",
      "execution_count": 45,
      "metadata": {
        "id": "QJtOdlkOVlJ_",
        "outputId": "6a3aa069-0693-4e8a-e69f-9113a38622cd",
        "colab": {
          "base_uri": "https://localhost:8080/",
          "height": 120,
          "referenced_widgets": [
            "c2bd8c8974eb490dba2e6edf57071a6d",
            "887cee7905474fbbb5f8c808993aff07",
            "44056d36f2cf41cb8c2d11e5e10136f0",
            "b527122f453c461faacf2681e8e7444e",
            "8a1ee9f19c404b749581a43bd285e5c8",
            "9354d3654f154ef7a502176cbbaf5dc6",
            "82fecca6416b4e7f8cfe1b50afe3a293",
            "dd2917f0cdbb44628e6497224cf70b18",
            "67ab8d05682f4ee29258d96624b10850",
            "6cac23f5714f404d943f0f50184a5646",
            "1664bedc6f75442b9458975c7a834d85"
          ]
        }
      },
      "outputs": [
        {
          "output_type": "display_data",
          "data": {
            "text/plain": [
              "Downloading builder script:   0%|          | 0.00/6.93k [00:00<?, ?B/s]"
            ],
            "application/vnd.jupyter.widget-view+json": {
              "version_major": 2,
              "version_minor": 0,
              "model_id": "c2bd8c8974eb490dba2e6edf57071a6d"
            }
          },
          "metadata": {}
        },
        {
          "output_type": "stream",
          "name": "stderr",
          "text": [
            "[nltk_data] Downloading package wordnet to /root/nltk_data...\n",
            "[nltk_data] Downloading package punkt to /root/nltk_data...\n",
            "[nltk_data]   Unzipping tokenizers/punkt.zip.\n",
            "[nltk_data] Downloading package omw-1.4 to /root/nltk_data...\n"
          ]
        }
      ],
      "source": [
        "meteor = evaluate.load(\"meteor\")\n",
        "results_meteor = meteor.compute(predictions=all_sentences, references=all_sentences_t5)"
      ]
    },
    {
      "cell_type": "code",
      "source": [
        "results_meteor"
      ],
      "metadata": {
        "id": "3AOdG2tfsDso",
        "outputId": "aa6a96fb-391e-4bd6-d974-fa999be12a24",
        "colab": {
          "base_uri": "https://localhost:8080/"
        }
      },
      "execution_count": 46,
      "outputs": [
        {
          "output_type": "execute_result",
          "data": {
            "text/plain": [
              "{'meteor': 0.7354905437885116}"
            ]
          },
          "metadata": {},
          "execution_count": 46
        }
      ]
    },
    {
      "cell_type": "code",
      "execution_count": 47,
      "metadata": {
        "id": "MXnxXcQNVlJ_"
      },
      "outputs": [],
      "source": [
        "# save results\n",
        "with open(f'{data_path}/meteor_results.json', 'w') as f:\n",
        "    json.dump(results_meteor, f)"
      ]
    }
  ],
  "metadata": {
    "kernelspec": {
      "display_name": "honlp",
      "language": "python",
      "name": "python3"
    },
    "language_info": {
      "codemirror_mode": {
        "name": "ipython",
        "version": 3
      },
      "file_extension": ".py",
      "mimetype": "text/x-python",
      "name": "python",
      "nbconvert_exporter": "python",
      "pygments_lexer": "ipython3",
      "version": "3.10.13"
    },
    "colab": {
      "provenance": [],
      "include_colab_link": true
    },
    "widgets": {
      "application/vnd.jupyter.widget-state+json": {
        "3677bfc4acc34f68be6ed7a3595ee657": {
          "model_module": "@jupyter-widgets/controls",
          "model_name": "HBoxModel",
          "model_module_version": "1.5.0",
          "state": {
            "_dom_classes": [],
            "_model_module": "@jupyter-widgets/controls",
            "_model_module_version": "1.5.0",
            "_model_name": "HBoxModel",
            "_view_count": null,
            "_view_module": "@jupyter-widgets/controls",
            "_view_module_version": "1.5.0",
            "_view_name": "HBoxView",
            "box_style": "",
            "children": [
              "IPY_MODEL_b40cc9442f7343d7952d4c1cddb5776e",
              "IPY_MODEL_fefac13d260d4403b5e7d47f49f25210",
              "IPY_MODEL_e9aefa41b69d433abadc315420f3e3b1"
            ],
            "layout": "IPY_MODEL_0c86be896f8d42ca9745eb6c7b900e85"
          }
        },
        "b40cc9442f7343d7952d4c1cddb5776e": {
          "model_module": "@jupyter-widgets/controls",
          "model_name": "HTMLModel",
          "model_module_version": "1.5.0",
          "state": {
            "_dom_classes": [],
            "_model_module": "@jupyter-widgets/controls",
            "_model_module_version": "1.5.0",
            "_model_name": "HTMLModel",
            "_view_count": null,
            "_view_module": "@jupyter-widgets/controls",
            "_view_module_version": "1.5.0",
            "_view_name": "HTMLView",
            "description": "",
            "description_tooltip": null,
            "layout": "IPY_MODEL_caa9d2b06ef444bd9161824e880c3c44",
            "placeholder": "​",
            "style": "IPY_MODEL_30c187fd47134332ab2683cdee06fcca",
            "value": "100%"
          }
        },
        "fefac13d260d4403b5e7d47f49f25210": {
          "model_module": "@jupyter-widgets/controls",
          "model_name": "FloatProgressModel",
          "model_module_version": "1.5.0",
          "state": {
            "_dom_classes": [],
            "_model_module": "@jupyter-widgets/controls",
            "_model_module_version": "1.5.0",
            "_model_name": "FloatProgressModel",
            "_view_count": null,
            "_view_module": "@jupyter-widgets/controls",
            "_view_module_version": "1.5.0",
            "_view_name": "ProgressView",
            "bar_style": "success",
            "description": "",
            "description_tooltip": null,
            "layout": "IPY_MODEL_d026a721463c47e5a787f99b1c7f17bd",
            "max": 36,
            "min": 0,
            "orientation": "horizontal",
            "style": "IPY_MODEL_0e97646efdff46ae88199734c852e417",
            "value": 36
          }
        },
        "e9aefa41b69d433abadc315420f3e3b1": {
          "model_module": "@jupyter-widgets/controls",
          "model_name": "HTMLModel",
          "model_module_version": "1.5.0",
          "state": {
            "_dom_classes": [],
            "_model_module": "@jupyter-widgets/controls",
            "_model_module_version": "1.5.0",
            "_model_name": "HTMLModel",
            "_view_count": null,
            "_view_module": "@jupyter-widgets/controls",
            "_view_module_version": "1.5.0",
            "_view_name": "HTMLView",
            "description": "",
            "description_tooltip": null,
            "layout": "IPY_MODEL_1dc3d368d8344e8ba533c5efe89b95ed",
            "placeholder": "​",
            "style": "IPY_MODEL_138c922fbc994dc48a1b7345189491ea",
            "value": " 36/36 [11:10&lt;00:00, 13.05s/it]"
          }
        },
        "0c86be896f8d42ca9745eb6c7b900e85": {
          "model_module": "@jupyter-widgets/base",
          "model_name": "LayoutModel",
          "model_module_version": "1.2.0",
          "state": {
            "_model_module": "@jupyter-widgets/base",
            "_model_module_version": "1.2.0",
            "_model_name": "LayoutModel",
            "_view_count": null,
            "_view_module": "@jupyter-widgets/base",
            "_view_module_version": "1.2.0",
            "_view_name": "LayoutView",
            "align_content": null,
            "align_items": null,
            "align_self": null,
            "border": null,
            "bottom": null,
            "display": null,
            "flex": null,
            "flex_flow": null,
            "grid_area": null,
            "grid_auto_columns": null,
            "grid_auto_flow": null,
            "grid_auto_rows": null,
            "grid_column": null,
            "grid_gap": null,
            "grid_row": null,
            "grid_template_areas": null,
            "grid_template_columns": null,
            "grid_template_rows": null,
            "height": null,
            "justify_content": null,
            "justify_items": null,
            "left": null,
            "margin": null,
            "max_height": null,
            "max_width": null,
            "min_height": null,
            "min_width": null,
            "object_fit": null,
            "object_position": null,
            "order": null,
            "overflow": null,
            "overflow_x": null,
            "overflow_y": null,
            "padding": null,
            "right": null,
            "top": null,
            "visibility": null,
            "width": null
          }
        },
        "caa9d2b06ef444bd9161824e880c3c44": {
          "model_module": "@jupyter-widgets/base",
          "model_name": "LayoutModel",
          "model_module_version": "1.2.0",
          "state": {
            "_model_module": "@jupyter-widgets/base",
            "_model_module_version": "1.2.0",
            "_model_name": "LayoutModel",
            "_view_count": null,
            "_view_module": "@jupyter-widgets/base",
            "_view_module_version": "1.2.0",
            "_view_name": "LayoutView",
            "align_content": null,
            "align_items": null,
            "align_self": null,
            "border": null,
            "bottom": null,
            "display": null,
            "flex": null,
            "flex_flow": null,
            "grid_area": null,
            "grid_auto_columns": null,
            "grid_auto_flow": null,
            "grid_auto_rows": null,
            "grid_column": null,
            "grid_gap": null,
            "grid_row": null,
            "grid_template_areas": null,
            "grid_template_columns": null,
            "grid_template_rows": null,
            "height": null,
            "justify_content": null,
            "justify_items": null,
            "left": null,
            "margin": null,
            "max_height": null,
            "max_width": null,
            "min_height": null,
            "min_width": null,
            "object_fit": null,
            "object_position": null,
            "order": null,
            "overflow": null,
            "overflow_x": null,
            "overflow_y": null,
            "padding": null,
            "right": null,
            "top": null,
            "visibility": null,
            "width": null
          }
        },
        "30c187fd47134332ab2683cdee06fcca": {
          "model_module": "@jupyter-widgets/controls",
          "model_name": "DescriptionStyleModel",
          "model_module_version": "1.5.0",
          "state": {
            "_model_module": "@jupyter-widgets/controls",
            "_model_module_version": "1.5.0",
            "_model_name": "DescriptionStyleModel",
            "_view_count": null,
            "_view_module": "@jupyter-widgets/base",
            "_view_module_version": "1.2.0",
            "_view_name": "StyleView",
            "description_width": ""
          }
        },
        "d026a721463c47e5a787f99b1c7f17bd": {
          "model_module": "@jupyter-widgets/base",
          "model_name": "LayoutModel",
          "model_module_version": "1.2.0",
          "state": {
            "_model_module": "@jupyter-widgets/base",
            "_model_module_version": "1.2.0",
            "_model_name": "LayoutModel",
            "_view_count": null,
            "_view_module": "@jupyter-widgets/base",
            "_view_module_version": "1.2.0",
            "_view_name": "LayoutView",
            "align_content": null,
            "align_items": null,
            "align_self": null,
            "border": null,
            "bottom": null,
            "display": null,
            "flex": null,
            "flex_flow": null,
            "grid_area": null,
            "grid_auto_columns": null,
            "grid_auto_flow": null,
            "grid_auto_rows": null,
            "grid_column": null,
            "grid_gap": null,
            "grid_row": null,
            "grid_template_areas": null,
            "grid_template_columns": null,
            "grid_template_rows": null,
            "height": null,
            "justify_content": null,
            "justify_items": null,
            "left": null,
            "margin": null,
            "max_height": null,
            "max_width": null,
            "min_height": null,
            "min_width": null,
            "object_fit": null,
            "object_position": null,
            "order": null,
            "overflow": null,
            "overflow_x": null,
            "overflow_y": null,
            "padding": null,
            "right": null,
            "top": null,
            "visibility": null,
            "width": null
          }
        },
        "0e97646efdff46ae88199734c852e417": {
          "model_module": "@jupyter-widgets/controls",
          "model_name": "ProgressStyleModel",
          "model_module_version": "1.5.0",
          "state": {
            "_model_module": "@jupyter-widgets/controls",
            "_model_module_version": "1.5.0",
            "_model_name": "ProgressStyleModel",
            "_view_count": null,
            "_view_module": "@jupyter-widgets/base",
            "_view_module_version": "1.2.0",
            "_view_name": "StyleView",
            "bar_color": null,
            "description_width": ""
          }
        },
        "1dc3d368d8344e8ba533c5efe89b95ed": {
          "model_module": "@jupyter-widgets/base",
          "model_name": "LayoutModel",
          "model_module_version": "1.2.0",
          "state": {
            "_model_module": "@jupyter-widgets/base",
            "_model_module_version": "1.2.0",
            "_model_name": "LayoutModel",
            "_view_count": null,
            "_view_module": "@jupyter-widgets/base",
            "_view_module_version": "1.2.0",
            "_view_name": "LayoutView",
            "align_content": null,
            "align_items": null,
            "align_self": null,
            "border": null,
            "bottom": null,
            "display": null,
            "flex": null,
            "flex_flow": null,
            "grid_area": null,
            "grid_auto_columns": null,
            "grid_auto_flow": null,
            "grid_auto_rows": null,
            "grid_column": null,
            "grid_gap": null,
            "grid_row": null,
            "grid_template_areas": null,
            "grid_template_columns": null,
            "grid_template_rows": null,
            "height": null,
            "justify_content": null,
            "justify_items": null,
            "left": null,
            "margin": null,
            "max_height": null,
            "max_width": null,
            "min_height": null,
            "min_width": null,
            "object_fit": null,
            "object_position": null,
            "order": null,
            "overflow": null,
            "overflow_x": null,
            "overflow_y": null,
            "padding": null,
            "right": null,
            "top": null,
            "visibility": null,
            "width": null
          }
        },
        "138c922fbc994dc48a1b7345189491ea": {
          "model_module": "@jupyter-widgets/controls",
          "model_name": "DescriptionStyleModel",
          "model_module_version": "1.5.0",
          "state": {
            "_model_module": "@jupyter-widgets/controls",
            "_model_module_version": "1.5.0",
            "_model_name": "DescriptionStyleModel",
            "_view_count": null,
            "_view_module": "@jupyter-widgets/base",
            "_view_module_version": "1.2.0",
            "_view_name": "StyleView",
            "description_width": ""
          }
        },
        "697cceb0fadc4aa58cf044769208a62f": {
          "model_module": "@jupyter-widgets/controls",
          "model_name": "HBoxModel",
          "model_module_version": "1.5.0",
          "state": {
            "_dom_classes": [],
            "_model_module": "@jupyter-widgets/controls",
            "_model_module_version": "1.5.0",
            "_model_name": "HBoxModel",
            "_view_count": null,
            "_view_module": "@jupyter-widgets/controls",
            "_view_module_version": "1.5.0",
            "_view_name": "HBoxView",
            "box_style": "",
            "children": [
              "IPY_MODEL_1e696dfbda5842d19ae31b0b269ab53b",
              "IPY_MODEL_3185c4fbbd2543858698d067d59df437",
              "IPY_MODEL_79cad7384b904eefb4bbd696be8f0fd7"
            ],
            "layout": "IPY_MODEL_9b9d010d12cd41779a37a6d8499f5fa2"
          }
        },
        "1e696dfbda5842d19ae31b0b269ab53b": {
          "model_module": "@jupyter-widgets/controls",
          "model_name": "HTMLModel",
          "model_module_version": "1.5.0",
          "state": {
            "_dom_classes": [],
            "_model_module": "@jupyter-widgets/controls",
            "_model_module_version": "1.5.0",
            "_model_name": "HTMLModel",
            "_view_count": null,
            "_view_module": "@jupyter-widgets/controls",
            "_view_module_version": "1.5.0",
            "_view_name": "HTMLView",
            "description": "",
            "description_tooltip": null,
            "layout": "IPY_MODEL_8c5c4f3243f84cf1b836a66860cf68ba",
            "placeholder": "​",
            "style": "IPY_MODEL_424737e710bd497884f7bed39ba72088",
            "value": "config.json: 100%"
          }
        },
        "3185c4fbbd2543858698d067d59df437": {
          "model_module": "@jupyter-widgets/controls",
          "model_name": "FloatProgressModel",
          "model_module_version": "1.5.0",
          "state": {
            "_dom_classes": [],
            "_model_module": "@jupyter-widgets/controls",
            "_model_module_version": "1.5.0",
            "_model_name": "FloatProgressModel",
            "_view_count": null,
            "_view_module": "@jupyter-widgets/controls",
            "_view_module_version": "1.5.0",
            "_view_name": "ProgressView",
            "bar_style": "success",
            "description": "",
            "description_tooltip": null,
            "layout": "IPY_MODEL_72b968a1768b490d81e3282f387462cb",
            "max": 1206,
            "min": 0,
            "orientation": "horizontal",
            "style": "IPY_MODEL_b3692ecd92eb4dd39f97dd445cd27d8c",
            "value": 1206
          }
        },
        "79cad7384b904eefb4bbd696be8f0fd7": {
          "model_module": "@jupyter-widgets/controls",
          "model_name": "HTMLModel",
          "model_module_version": "1.5.0",
          "state": {
            "_dom_classes": [],
            "_model_module": "@jupyter-widgets/controls",
            "_model_module_version": "1.5.0",
            "_model_name": "HTMLModel",
            "_view_count": null,
            "_view_module": "@jupyter-widgets/controls",
            "_view_module_version": "1.5.0",
            "_view_name": "HTMLView",
            "description": "",
            "description_tooltip": null,
            "layout": "IPY_MODEL_78dc1143015f464ba62013a32ff75a3c",
            "placeholder": "​",
            "style": "IPY_MODEL_c616f083faa845f3905673e56c4d36ee",
            "value": " 1.21k/1.21k [00:00&lt;00:00, 40.6kB/s]"
          }
        },
        "9b9d010d12cd41779a37a6d8499f5fa2": {
          "model_module": "@jupyter-widgets/base",
          "model_name": "LayoutModel",
          "model_module_version": "1.2.0",
          "state": {
            "_model_module": "@jupyter-widgets/base",
            "_model_module_version": "1.2.0",
            "_model_name": "LayoutModel",
            "_view_count": null,
            "_view_module": "@jupyter-widgets/base",
            "_view_module_version": "1.2.0",
            "_view_name": "LayoutView",
            "align_content": null,
            "align_items": null,
            "align_self": null,
            "border": null,
            "bottom": null,
            "display": null,
            "flex": null,
            "flex_flow": null,
            "grid_area": null,
            "grid_auto_columns": null,
            "grid_auto_flow": null,
            "grid_auto_rows": null,
            "grid_column": null,
            "grid_gap": null,
            "grid_row": null,
            "grid_template_areas": null,
            "grid_template_columns": null,
            "grid_template_rows": null,
            "height": null,
            "justify_content": null,
            "justify_items": null,
            "left": null,
            "margin": null,
            "max_height": null,
            "max_width": null,
            "min_height": null,
            "min_width": null,
            "object_fit": null,
            "object_position": null,
            "order": null,
            "overflow": null,
            "overflow_x": null,
            "overflow_y": null,
            "padding": null,
            "right": null,
            "top": null,
            "visibility": null,
            "width": null
          }
        },
        "8c5c4f3243f84cf1b836a66860cf68ba": {
          "model_module": "@jupyter-widgets/base",
          "model_name": "LayoutModel",
          "model_module_version": "1.2.0",
          "state": {
            "_model_module": "@jupyter-widgets/base",
            "_model_module_version": "1.2.0",
            "_model_name": "LayoutModel",
            "_view_count": null,
            "_view_module": "@jupyter-widgets/base",
            "_view_module_version": "1.2.0",
            "_view_name": "LayoutView",
            "align_content": null,
            "align_items": null,
            "align_self": null,
            "border": null,
            "bottom": null,
            "display": null,
            "flex": null,
            "flex_flow": null,
            "grid_area": null,
            "grid_auto_columns": null,
            "grid_auto_flow": null,
            "grid_auto_rows": null,
            "grid_column": null,
            "grid_gap": null,
            "grid_row": null,
            "grid_template_areas": null,
            "grid_template_columns": null,
            "grid_template_rows": null,
            "height": null,
            "justify_content": null,
            "justify_items": null,
            "left": null,
            "margin": null,
            "max_height": null,
            "max_width": null,
            "min_height": null,
            "min_width": null,
            "object_fit": null,
            "object_position": null,
            "order": null,
            "overflow": null,
            "overflow_x": null,
            "overflow_y": null,
            "padding": null,
            "right": null,
            "top": null,
            "visibility": null,
            "width": null
          }
        },
        "424737e710bd497884f7bed39ba72088": {
          "model_module": "@jupyter-widgets/controls",
          "model_name": "DescriptionStyleModel",
          "model_module_version": "1.5.0",
          "state": {
            "_model_module": "@jupyter-widgets/controls",
            "_model_module_version": "1.5.0",
            "_model_name": "DescriptionStyleModel",
            "_view_count": null,
            "_view_module": "@jupyter-widgets/base",
            "_view_module_version": "1.2.0",
            "_view_name": "StyleView",
            "description_width": ""
          }
        },
        "72b968a1768b490d81e3282f387462cb": {
          "model_module": "@jupyter-widgets/base",
          "model_name": "LayoutModel",
          "model_module_version": "1.2.0",
          "state": {
            "_model_module": "@jupyter-widgets/base",
            "_model_module_version": "1.2.0",
            "_model_name": "LayoutModel",
            "_view_count": null,
            "_view_module": "@jupyter-widgets/base",
            "_view_module_version": "1.2.0",
            "_view_name": "LayoutView",
            "align_content": null,
            "align_items": null,
            "align_self": null,
            "border": null,
            "bottom": null,
            "display": null,
            "flex": null,
            "flex_flow": null,
            "grid_area": null,
            "grid_auto_columns": null,
            "grid_auto_flow": null,
            "grid_auto_rows": null,
            "grid_column": null,
            "grid_gap": null,
            "grid_row": null,
            "grid_template_areas": null,
            "grid_template_columns": null,
            "grid_template_rows": null,
            "height": null,
            "justify_content": null,
            "justify_items": null,
            "left": null,
            "margin": null,
            "max_height": null,
            "max_width": null,
            "min_height": null,
            "min_width": null,
            "object_fit": null,
            "object_position": null,
            "order": null,
            "overflow": null,
            "overflow_x": null,
            "overflow_y": null,
            "padding": null,
            "right": null,
            "top": null,
            "visibility": null,
            "width": null
          }
        },
        "b3692ecd92eb4dd39f97dd445cd27d8c": {
          "model_module": "@jupyter-widgets/controls",
          "model_name": "ProgressStyleModel",
          "model_module_version": "1.5.0",
          "state": {
            "_model_module": "@jupyter-widgets/controls",
            "_model_module_version": "1.5.0",
            "_model_name": "ProgressStyleModel",
            "_view_count": null,
            "_view_module": "@jupyter-widgets/base",
            "_view_module_version": "1.2.0",
            "_view_name": "StyleView",
            "bar_color": null,
            "description_width": ""
          }
        },
        "78dc1143015f464ba62013a32ff75a3c": {
          "model_module": "@jupyter-widgets/base",
          "model_name": "LayoutModel",
          "model_module_version": "1.2.0",
          "state": {
            "_model_module": "@jupyter-widgets/base",
            "_model_module_version": "1.2.0",
            "_model_name": "LayoutModel",
            "_view_count": null,
            "_view_module": "@jupyter-widgets/base",
            "_view_module_version": "1.2.0",
            "_view_name": "LayoutView",
            "align_content": null,
            "align_items": null,
            "align_self": null,
            "border": null,
            "bottom": null,
            "display": null,
            "flex": null,
            "flex_flow": null,
            "grid_area": null,
            "grid_auto_columns": null,
            "grid_auto_flow": null,
            "grid_auto_rows": null,
            "grid_column": null,
            "grid_gap": null,
            "grid_row": null,
            "grid_template_areas": null,
            "grid_template_columns": null,
            "grid_template_rows": null,
            "height": null,
            "justify_content": null,
            "justify_items": null,
            "left": null,
            "margin": null,
            "max_height": null,
            "max_width": null,
            "min_height": null,
            "min_width": null,
            "object_fit": null,
            "object_position": null,
            "order": null,
            "overflow": null,
            "overflow_x": null,
            "overflow_y": null,
            "padding": null,
            "right": null,
            "top": null,
            "visibility": null,
            "width": null
          }
        },
        "c616f083faa845f3905673e56c4d36ee": {
          "model_module": "@jupyter-widgets/controls",
          "model_name": "DescriptionStyleModel",
          "model_module_version": "1.5.0",
          "state": {
            "_model_module": "@jupyter-widgets/controls",
            "_model_module_version": "1.5.0",
            "_model_name": "DescriptionStyleModel",
            "_view_count": null,
            "_view_module": "@jupyter-widgets/base",
            "_view_module_version": "1.2.0",
            "_view_name": "StyleView",
            "description_width": ""
          }
        },
        "c2bd8c8974eb490dba2e6edf57071a6d": {
          "model_module": "@jupyter-widgets/controls",
          "model_name": "HBoxModel",
          "model_module_version": "1.5.0",
          "state": {
            "_dom_classes": [],
            "_model_module": "@jupyter-widgets/controls",
            "_model_module_version": "1.5.0",
            "_model_name": "HBoxModel",
            "_view_count": null,
            "_view_module": "@jupyter-widgets/controls",
            "_view_module_version": "1.5.0",
            "_view_name": "HBoxView",
            "box_style": "",
            "children": [
              "IPY_MODEL_887cee7905474fbbb5f8c808993aff07",
              "IPY_MODEL_44056d36f2cf41cb8c2d11e5e10136f0",
              "IPY_MODEL_b527122f453c461faacf2681e8e7444e"
            ],
            "layout": "IPY_MODEL_8a1ee9f19c404b749581a43bd285e5c8"
          }
        },
        "887cee7905474fbbb5f8c808993aff07": {
          "model_module": "@jupyter-widgets/controls",
          "model_name": "HTMLModel",
          "model_module_version": "1.5.0",
          "state": {
            "_dom_classes": [],
            "_model_module": "@jupyter-widgets/controls",
            "_model_module_version": "1.5.0",
            "_model_name": "HTMLModel",
            "_view_count": null,
            "_view_module": "@jupyter-widgets/controls",
            "_view_module_version": "1.5.0",
            "_view_name": "HTMLView",
            "description": "",
            "description_tooltip": null,
            "layout": "IPY_MODEL_9354d3654f154ef7a502176cbbaf5dc6",
            "placeholder": "​",
            "style": "IPY_MODEL_82fecca6416b4e7f8cfe1b50afe3a293",
            "value": "Downloading builder script: 100%"
          }
        },
        "44056d36f2cf41cb8c2d11e5e10136f0": {
          "model_module": "@jupyter-widgets/controls",
          "model_name": "FloatProgressModel",
          "model_module_version": "1.5.0",
          "state": {
            "_dom_classes": [],
            "_model_module": "@jupyter-widgets/controls",
            "_model_module_version": "1.5.0",
            "_model_name": "FloatProgressModel",
            "_view_count": null,
            "_view_module": "@jupyter-widgets/controls",
            "_view_module_version": "1.5.0",
            "_view_name": "ProgressView",
            "bar_style": "success",
            "description": "",
            "description_tooltip": null,
            "layout": "IPY_MODEL_dd2917f0cdbb44628e6497224cf70b18",
            "max": 6927,
            "min": 0,
            "orientation": "horizontal",
            "style": "IPY_MODEL_67ab8d05682f4ee29258d96624b10850",
            "value": 6927
          }
        },
        "b527122f453c461faacf2681e8e7444e": {
          "model_module": "@jupyter-widgets/controls",
          "model_name": "HTMLModel",
          "model_module_version": "1.5.0",
          "state": {
            "_dom_classes": [],
            "_model_module": "@jupyter-widgets/controls",
            "_model_module_version": "1.5.0",
            "_model_name": "HTMLModel",
            "_view_count": null,
            "_view_module": "@jupyter-widgets/controls",
            "_view_module_version": "1.5.0",
            "_view_name": "HTMLView",
            "description": "",
            "description_tooltip": null,
            "layout": "IPY_MODEL_6cac23f5714f404d943f0f50184a5646",
            "placeholder": "​",
            "style": "IPY_MODEL_1664bedc6f75442b9458975c7a834d85",
            "value": " 6.93k/6.93k [00:00&lt;00:00, 268kB/s]"
          }
        },
        "8a1ee9f19c404b749581a43bd285e5c8": {
          "model_module": "@jupyter-widgets/base",
          "model_name": "LayoutModel",
          "model_module_version": "1.2.0",
          "state": {
            "_model_module": "@jupyter-widgets/base",
            "_model_module_version": "1.2.0",
            "_model_name": "LayoutModel",
            "_view_count": null,
            "_view_module": "@jupyter-widgets/base",
            "_view_module_version": "1.2.0",
            "_view_name": "LayoutView",
            "align_content": null,
            "align_items": null,
            "align_self": null,
            "border": null,
            "bottom": null,
            "display": null,
            "flex": null,
            "flex_flow": null,
            "grid_area": null,
            "grid_auto_columns": null,
            "grid_auto_flow": null,
            "grid_auto_rows": null,
            "grid_column": null,
            "grid_gap": null,
            "grid_row": null,
            "grid_template_areas": null,
            "grid_template_columns": null,
            "grid_template_rows": null,
            "height": null,
            "justify_content": null,
            "justify_items": null,
            "left": null,
            "margin": null,
            "max_height": null,
            "max_width": null,
            "min_height": null,
            "min_width": null,
            "object_fit": null,
            "object_position": null,
            "order": null,
            "overflow": null,
            "overflow_x": null,
            "overflow_y": null,
            "padding": null,
            "right": null,
            "top": null,
            "visibility": null,
            "width": null
          }
        },
        "9354d3654f154ef7a502176cbbaf5dc6": {
          "model_module": "@jupyter-widgets/base",
          "model_name": "LayoutModel",
          "model_module_version": "1.2.0",
          "state": {
            "_model_module": "@jupyter-widgets/base",
            "_model_module_version": "1.2.0",
            "_model_name": "LayoutModel",
            "_view_count": null,
            "_view_module": "@jupyter-widgets/base",
            "_view_module_version": "1.2.0",
            "_view_name": "LayoutView",
            "align_content": null,
            "align_items": null,
            "align_self": null,
            "border": null,
            "bottom": null,
            "display": null,
            "flex": null,
            "flex_flow": null,
            "grid_area": null,
            "grid_auto_columns": null,
            "grid_auto_flow": null,
            "grid_auto_rows": null,
            "grid_column": null,
            "grid_gap": null,
            "grid_row": null,
            "grid_template_areas": null,
            "grid_template_columns": null,
            "grid_template_rows": null,
            "height": null,
            "justify_content": null,
            "justify_items": null,
            "left": null,
            "margin": null,
            "max_height": null,
            "max_width": null,
            "min_height": null,
            "min_width": null,
            "object_fit": null,
            "object_position": null,
            "order": null,
            "overflow": null,
            "overflow_x": null,
            "overflow_y": null,
            "padding": null,
            "right": null,
            "top": null,
            "visibility": null,
            "width": null
          }
        },
        "82fecca6416b4e7f8cfe1b50afe3a293": {
          "model_module": "@jupyter-widgets/controls",
          "model_name": "DescriptionStyleModel",
          "model_module_version": "1.5.0",
          "state": {
            "_model_module": "@jupyter-widgets/controls",
            "_model_module_version": "1.5.0",
            "_model_name": "DescriptionStyleModel",
            "_view_count": null,
            "_view_module": "@jupyter-widgets/base",
            "_view_module_version": "1.2.0",
            "_view_name": "StyleView",
            "description_width": ""
          }
        },
        "dd2917f0cdbb44628e6497224cf70b18": {
          "model_module": "@jupyter-widgets/base",
          "model_name": "LayoutModel",
          "model_module_version": "1.2.0",
          "state": {
            "_model_module": "@jupyter-widgets/base",
            "_model_module_version": "1.2.0",
            "_model_name": "LayoutModel",
            "_view_count": null,
            "_view_module": "@jupyter-widgets/base",
            "_view_module_version": "1.2.0",
            "_view_name": "LayoutView",
            "align_content": null,
            "align_items": null,
            "align_self": null,
            "border": null,
            "bottom": null,
            "display": null,
            "flex": null,
            "flex_flow": null,
            "grid_area": null,
            "grid_auto_columns": null,
            "grid_auto_flow": null,
            "grid_auto_rows": null,
            "grid_column": null,
            "grid_gap": null,
            "grid_row": null,
            "grid_template_areas": null,
            "grid_template_columns": null,
            "grid_template_rows": null,
            "height": null,
            "justify_content": null,
            "justify_items": null,
            "left": null,
            "margin": null,
            "max_height": null,
            "max_width": null,
            "min_height": null,
            "min_width": null,
            "object_fit": null,
            "object_position": null,
            "order": null,
            "overflow": null,
            "overflow_x": null,
            "overflow_y": null,
            "padding": null,
            "right": null,
            "top": null,
            "visibility": null,
            "width": null
          }
        },
        "67ab8d05682f4ee29258d96624b10850": {
          "model_module": "@jupyter-widgets/controls",
          "model_name": "ProgressStyleModel",
          "model_module_version": "1.5.0",
          "state": {
            "_model_module": "@jupyter-widgets/controls",
            "_model_module_version": "1.5.0",
            "_model_name": "ProgressStyleModel",
            "_view_count": null,
            "_view_module": "@jupyter-widgets/base",
            "_view_module_version": "1.2.0",
            "_view_name": "StyleView",
            "bar_color": null,
            "description_width": ""
          }
        },
        "6cac23f5714f404d943f0f50184a5646": {
          "model_module": "@jupyter-widgets/base",
          "model_name": "LayoutModel",
          "model_module_version": "1.2.0",
          "state": {
            "_model_module": "@jupyter-widgets/base",
            "_model_module_version": "1.2.0",
            "_model_name": "LayoutModel",
            "_view_count": null,
            "_view_module": "@jupyter-widgets/base",
            "_view_module_version": "1.2.0",
            "_view_name": "LayoutView",
            "align_content": null,
            "align_items": null,
            "align_self": null,
            "border": null,
            "bottom": null,
            "display": null,
            "flex": null,
            "flex_flow": null,
            "grid_area": null,
            "grid_auto_columns": null,
            "grid_auto_flow": null,
            "grid_auto_rows": null,
            "grid_column": null,
            "grid_gap": null,
            "grid_row": null,
            "grid_template_areas": null,
            "grid_template_columns": null,
            "grid_template_rows": null,
            "height": null,
            "justify_content": null,
            "justify_items": null,
            "left": null,
            "margin": null,
            "max_height": null,
            "max_width": null,
            "min_height": null,
            "min_width": null,
            "object_fit": null,
            "object_position": null,
            "order": null,
            "overflow": null,
            "overflow_x": null,
            "overflow_y": null,
            "padding": null,
            "right": null,
            "top": null,
            "visibility": null,
            "width": null
          }
        },
        "1664bedc6f75442b9458975c7a834d85": {
          "model_module": "@jupyter-widgets/controls",
          "model_name": "DescriptionStyleModel",
          "model_module_version": "1.5.0",
          "state": {
            "_model_module": "@jupyter-widgets/controls",
            "_model_module_version": "1.5.0",
            "_model_name": "DescriptionStyleModel",
            "_view_count": null,
            "_view_module": "@jupyter-widgets/base",
            "_view_module_version": "1.2.0",
            "_view_name": "StyleView",
            "description_width": ""
          }
        }
      }
    }
  },
  "nbformat": 4,
  "nbformat_minor": 0
}