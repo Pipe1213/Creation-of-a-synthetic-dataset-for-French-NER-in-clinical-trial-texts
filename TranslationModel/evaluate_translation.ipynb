{
 "cells": [
  {
   "cell_type": "code",
   "execution_count": 10,
   "metadata": {},
   "outputs": [],
   "source": [
    "import evaluate\n",
    "import transformers\n",
    "import os"
   ]
  },
  {
   "cell_type": "code",
   "execution_count": 19,
   "metadata": {},
   "outputs": [],
   "source": [
    "# paths to the data\n",
    "root_path = '..' # comment if using colab\n",
    "# root_path = './drive/MyDrive/HandsOn-NLP/' # uncomment if using colab\n",
    "data_path = f'{root_path}/data'\n",
    "french_texts_path = f'{data_path}/chia_criteria_french'\n",
    "chat_gpt_translations_path = f'{data_path}/chia_criteria_french_chat_gpt'"
   ]
  },
  {
   "cell_type": "code",
   "execution_count": 20,
   "metadata": {},
   "outputs": [],
   "source": [
    "# load all french translated files\n",
    "french_texts = os.listdir(french_texts_path)"
   ]
  },
  {
   "cell_type": "code",
   "execution_count": 29,
   "metadata": {},
   "outputs": [],
   "source": [
    "all_sentences = []\n",
    "\n",
    "for file in french_texts:\n",
    "    with open(f'{french_texts_path}/{file}', 'r') as f:\n",
    "        all_sentences.extend([line for line in f.readlines() if (line.strip() != '' and line.strip() != '\\n' and len(line.split()) < 500) and len(line.split()) >= 3])"
   ]
  },
  {
   "cell_type": "code",
   "execution_count": 30,
   "metadata": {},
   "outputs": [
    {
     "data": {
      "application/vnd.jupyter.widget-view+json": {
       "model_id": "d5b9a943a2d849e5a2b90b2cc90179ff",
       "version_major": 2,
       "version_minor": 0
      },
      "text/plain": [
       "  0%|          | 0/730 [00:00<?, ?it/s]"
      ]
     },
     "metadata": {},
     "output_type": "display_data"
    }
   ],
   "source": [
    "perplexity = evaluate.load(\"perplexity\", module_type=\"metric\")\n",
    "\n",
    "results = perplexity.compute(model_id='Helsinki-NLP/opus-mt-en-fr',\n",
    "                             add_start_token=False,\n",
    "                             predictions=all_sentences)"
   ]
  },
  {
   "cell_type": "code",
   "execution_count": null,
   "metadata": {},
   "outputs": [],
   "source": [
    "import json\n",
    "\n",
    "with open(f'{data_path}/perplexity_results.json', 'w') as f:\n",
    "    json.dump(results, f)"
   ]
  },
  {
   "cell_type": "markdown",
   "metadata": {},
   "source": [
    "**BLEU evaluation**\n",
    "\n",
    "We are going to use some translations from *chatGPT* as reference to get the BLEU score for the translations used in our task."
   ]
  },
  {
   "cell_type": "code",
   "execution_count": null,
   "metadata": {},
   "outputs": [],
   "source": [
    "# get chat_gpt translations\n",
    "files_gpt = os.listdir(chat_gpt_translations_path)\n",
    "\n",
    "all_sentences_gpt = []\n",
    "all_sentences_to_evaluate = []\n",
    "for file in files_gpt:\n",
    "    with open(f'{chat_gpt_translations_path}/{file}', 'r') as f:\n",
    "        all_sentences_gpt.extend([line for line in f.readlines() if (line.strip() != '' and line.strip() != '\\n' and len(line.split()) < 500) and len(line.split()) >= 3])\n",
    "    with open(f'{french_texts_path}/{file}', 'r') as f:\n",
    "        all_sentences_to_evaluate.extend([line for line in f.readlines() if (line.strip() != '' and line.strip() != '\\n' and len(line.split()) < 500) and len(line.split()) >= 3])"
   ]
  },
  {
   "cell_type": "code",
   "execution_count": null,
   "metadata": {},
   "outputs": [],
   "source": [
    "bleu = evaluate.load(\"bleu\")\n",
    "results_bleu = bleu.compute(predictions=all_sentences_to_evaluate, references=all_sentences_gpt)"
   ]
  },
  {
   "cell_type": "code",
   "execution_count": null,
   "metadata": {},
   "outputs": [],
   "source": [
    "# save results\n",
    "with open(f'{data_path}/bleu_results.json', 'w') as f:\n",
    "    json.dump(results_bleu, f)"
   ]
  },
  {
   "cell_type": "markdown",
   "metadata": {},
   "source": [
    "**TER(Translation Edit Rate) evaluation**\n",
    "\n",
    "We will use the same approach as for BLEU score case. (using *chatGPT* translations as reference)"
   ]
  },
  {
   "cell_type": "code",
   "execution_count": null,
   "metadata": {},
   "outputs": [],
   "source": [
    "ter = evaluate.load(\"ter\")\n",
    "results_ter = ter.compute(predictions=all_sentences_to_evaluate, references=all_sentences_gpt)"
   ]
  },
  {
   "cell_type": "code",
   "execution_count": null,
   "metadata": {},
   "outputs": [],
   "source": [
    "# save results\n",
    "with open(f'{data_path}/ter_results.json', 'w') as f:\n",
    "    json.dump(results_ter, f)"
   ]
  },
  {
   "cell_type": "markdown",
   "metadata": {},
   "source": [
    "**METEOR (Metric for Evaluation of Translation with Explicit ORdering)**\n",
    "\n",
    "We will use the same approach as for BLEU score case. (using *chatGPT* translations as reference)"
   ]
  },
  {
   "cell_type": "code",
   "execution_count": null,
   "metadata": {},
   "outputs": [],
   "source": [
    "meteor = evaluate.load(\"ter\")\n",
    "results_meteor = meteor.compute(predictions=all_sentences_to_evaluate, references=all_sentences_gpt)"
   ]
  },
  {
   "cell_type": "code",
   "execution_count": null,
   "metadata": {},
   "outputs": [],
   "source": [
    "# save results\n",
    "with open(f'{data_path}/meteor_results.json', 'w') as f:\n",
    "    json.dump(results_meteor, f)"
   ]
  }
 ],
 "metadata": {
  "kernelspec": {
   "display_name": "honlp",
   "language": "python",
   "name": "python3"
  },
  "language_info": {
   "codemirror_mode": {
    "name": "ipython",
    "version": 3
   },
   "file_extension": ".py",
   "mimetype": "text/x-python",
   "name": "python",
   "nbconvert_exporter": "python",
   "pygments_lexer": "ipython3",
   "version": "3.10.13"
  }
 },
 "nbformat": 4,
 "nbformat_minor": 2
}
