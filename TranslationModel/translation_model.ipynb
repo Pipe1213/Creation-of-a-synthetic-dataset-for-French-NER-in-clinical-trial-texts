{
 "cells": [
  {
   "cell_type": "code",
   "execution_count": 1,
   "metadata": {},
   "outputs": [],
   "source": [
    "import utils\n",
    "import os\n",
    "from tqdm import tqdm"
   ]
  },
  {
   "cell_type": "code",
   "execution_count": 2,
   "metadata": {},
   "outputs": [],
   "source": [
    "# DATA\n",
    "data_path = '../data'\n",
    "chia_path = f'{data_path}/chia_bio'"
   ]
  },
  {
   "cell_type": "code",
   "execution_count": 3,
   "metadata": {},
   "outputs": [
    {
     "data": {
      "text/plain": [
       "(1000, 1000)"
      ]
     },
     "execution_count": 3,
     "metadata": {},
     "output_type": "execute_result"
    }
   ],
   "source": [
    "# read chia dataset\n",
    "files = os.listdir(chia_path)\n",
    "files = [f for f in files if f.endswith('.txt')]\n",
    "len([file for file in files if file.endswith('exc.bio.txt')]), len([file for file in files if file.endswith('inc.bio.txt')]) "
   ]
  },
  {
   "cell_type": "code",
   "execution_count": 5,
   "metadata": {},
   "outputs": [
    {
     "name": "stderr",
     "output_type": "stream",
     "text": [
      "100%|██████████| 2000/2000 [00:00<00:00, 4453.86it/s]\n"
     ]
    }
   ],
   "source": [
    "# generate for each file the corresponding file with the sentences for each criteria\n",
    "for file in tqdm(files):\n",
    "    with open(f'{chia_path}/{file}', 'r') as f:\n",
    "        file_text = f.read()\n",
    "    sentences = utils.get_criteria_str_list(file_text)\n",
    "    with open(f'{data_path}/chia_criteria_texts/{file}', 'w') as f:\n",
    "        f.write('\\n'.join(sentences))"
   ]
  },
  {
   "cell_type": "markdown",
   "metadata": {},
   "source": [
    "### Translation of each sentence using hugginface model for translation"
   ]
  },
  {
   "cell_type": "code",
   "execution_count": 6,
   "metadata": {},
   "outputs": [],
   "source": [
    "from transformers import pipeline\n",
    "\n",
    "translator = pipeline(\"translation\", model=\"Helsinki-NLP/opus-mt-en-fr\")\n",
    "\n",
    "# translate the sentences\n",
    "for file in tqdm(files):\n",
    "    with open(f'{data_path}/chia_criteria_texts/{file}', 'r') as f:\n",
    "        file_text = f.read()\n",
    "    sentences = file_text.split('\\n')\n",
    "    sentences = [s for s in sentences if s if len(s) > 0 and len(s.split()) < 512]\n",
    "    translated_sentences = translator(sentences)\n",
    "    with open(f'{data_path}/chia_criteria_french/{file.replace(\".txt\", \"_fr.txt\")}', 'w') as f:\n",
    "        f.write('\\n'.join([t['translation_text'] for t in translated_sentences]))"
   ]
  }
 ],
 "metadata": {
  "kernelspec": {
   "display_name": "honlp",
   "language": "python",
   "name": "python3"
  },
  "language_info": {
   "codemirror_mode": {
    "name": "ipython",
    "version": 3
   },
   "file_extension": ".py",
   "mimetype": "text/x-python",
   "name": "python",
   "nbconvert_exporter": "python",
   "pygments_lexer": "ipython3",
   "version": "3.10.13"
  }
 },
 "nbformat": 4,
 "nbformat_minor": 2
}
