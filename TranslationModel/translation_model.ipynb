{
  "cells": [
    {
      "cell_type": "markdown",
      "metadata": {
        "id": "view-in-github",
        "colab_type": "text"
      },
      "source": [
        "<a href=\"https://colab.research.google.com/github/jlopetegui98/Creation-of-a-synthetic-dataset-for-French-NER-in-clinical-trial-texts/blob/main/TranslationModel/translation_model.ipynb\" target=\"_parent\"><img src=\"https://colab.research.google.com/assets/colab-badge.svg\" alt=\"Open In Colab\"/></a>"
      ]
    },
    {
      "cell_type": "code",
      "source": [
        "!pip install sacremoses"
      ],
      "metadata": {
        "id": "QOpmcr7V_Gp8",
        "outputId": "f9f56114-12bf-4ab1-ff9a-a74307dd7e70",
        "colab": {
          "base_uri": "https://localhost:8080/"
        }
      },
      "execution_count": 1,
      "outputs": [
        {
          "output_type": "stream",
          "name": "stdout",
          "text": [
            "Collecting sacremoses\n",
            "  Downloading sacremoses-0.1.1-py3-none-any.whl (897 kB)\n",
            "\u001b[2K     \u001b[90m━━━━━━━━━━━━━━━━━━━━━━━━━━━━━━━━━━━━━━━━\u001b[0m \u001b[32m897.5/897.5 kB\u001b[0m \u001b[31m5.9 MB/s\u001b[0m eta \u001b[36m0:00:00\u001b[0m\n",
            "\u001b[?25hRequirement already satisfied: regex in /usr/local/lib/python3.10/dist-packages (from sacremoses) (2023.12.25)\n",
            "Requirement already satisfied: click in /usr/local/lib/python3.10/dist-packages (from sacremoses) (8.1.7)\n",
            "Requirement already satisfied: joblib in /usr/local/lib/python3.10/dist-packages (from sacremoses) (1.3.2)\n",
            "Requirement already satisfied: tqdm in /usr/local/lib/python3.10/dist-packages (from sacremoses) (4.66.2)\n",
            "Installing collected packages: sacremoses\n",
            "Successfully installed sacremoses-0.1.1\n"
          ]
        }
      ]
    },
    {
      "cell_type": "code",
      "source": [
        "# uncomment the following line to run in colab\n",
        "from google.colab import drive\n",
        "drive.mount('/content/drive')"
      ],
      "metadata": {
        "id": "uFKcHv_R8VjF",
        "outputId": "ef919107-fd97-4d74-ac57-be8deda367a9",
        "colab": {
          "base_uri": "https://localhost:8080/"
        }
      },
      "execution_count": 3,
      "outputs": [
        {
          "output_type": "stream",
          "name": "stdout",
          "text": [
            "Mounted at /content/drive\n"
          ]
        }
      ]
    },
    {
      "cell_type": "code",
      "execution_count": 4,
      "metadata": {
        "id": "39pcBAog0deE"
      },
      "outputs": [],
      "source": [
        "import utils\n",
        "import os\n",
        "from tqdm import tqdm"
      ]
    },
    {
      "cell_type": "code",
      "execution_count": 5,
      "metadata": {
        "id": "BfMmSasT0deF"
      },
      "outputs": [],
      "source": [
        "# DATA\n",
        "# data_path = '../data' # comment if using colab\n",
        "data_path = './drive/MyDrive/HandsOn-NLP/data' # uncomment if using colab\n",
        "chia_path = f'{data_path}/chia_bio'\n",
        "chia_texts_path = f'{data_path}/chia_criteria_texts'\n",
        "chia_french_trans_path = f'{data_path}/chia_criteria_french'"
      ]
    },
    {
      "cell_type": "code",
      "execution_count": 6,
      "metadata": {
        "id": "rjU4bgbu0deF",
        "outputId": "658f15ef-4307-44cc-d623-39a1beb02d16",
        "colab": {
          "base_uri": "https://localhost:8080/"
        }
      },
      "outputs": [
        {
          "output_type": "execute_result",
          "data": {
            "text/plain": [
              "(1000, 1000)"
            ]
          },
          "metadata": {},
          "execution_count": 6
        }
      ],
      "source": [
        "# read chia dataset\n",
        "files = os.listdir(chia_texts_path)\n",
        "files = [f for f in files if f.endswith('.txt')]\n",
        "len([file for file in files if file.endswith('exc.bio.txt')]), len([file for file in files if file.endswith('inc.bio.txt')])"
      ]
    },
    {
      "cell_type": "code",
      "execution_count": 11,
      "metadata": {
        "id": "NWrVjL7R0deG"
      },
      "outputs": [],
      "source": [
        "# generate for each file the corresponding file with the sentences for each criteria\n",
        "for file in tqdm(files):\n",
        "    with open(f'{chia_path}/{file}', 'r') as f:\n",
        "        file_text = f.read()\n",
        "    sentences = utils.get_criteria_str_list(file_text)\n",
        "    with open(f'{data_path}/chia_criteria_texts/{file}', 'w') as f:\n",
        "        f.write('\\n'.join(sentences))"
      ]
    },
    {
      "cell_type": "markdown",
      "metadata": {
        "id": "DosUvPit0deG"
      },
      "source": [
        "### Translation of each sentence using hugginface model for translation"
      ]
    },
    {
      "cell_type": "code",
      "source": [
        "# get list of already translated files\n",
        "translated_trials = os.listdir(chia_french_trans_path)\n",
        "len(translated_trials)"
      ],
      "metadata": {
        "id": "MQ0F_3wD9Y7U",
        "outputId": "74a76652-4a06-4ac6-e77c-725f16c02729",
        "colab": {
          "base_uri": "https://localhost:8080/"
        }
      },
      "execution_count": 7,
      "outputs": [
        {
          "output_type": "execute_result",
          "data": {
            "text/plain": [
              "1028"
            ]
          },
          "metadata": {},
          "execution_count": 7
        }
      ]
    },
    {
      "cell_type": "code",
      "source": [
        "translated_trials[0], files[0] # to see the difference in file names"
      ],
      "metadata": {
        "id": "C3Y5MVXe9n_R",
        "outputId": "25b9ca89-cb00-44b8-eb8e-2ee0a6575bc8",
        "colab": {
          "base_uri": "https://localhost:8080/"
        }
      },
      "execution_count": 8,
      "outputs": [
        {
          "output_type": "execute_result",
          "data": {
            "text/plain": [
              "('NCT02924090_exc.bio_fr.txt', 'NCT03134378_inc.bio.txt')"
            ]
          },
          "metadata": {},
          "execution_count": 8
        }
      ]
    },
    {
      "cell_type": "code",
      "execution_count": 10,
      "metadata": {
        "id": "mlFLFmM90deH"
      },
      "outputs": [],
      "source": [
        "from transformers import pipeline\n",
        "\n",
        "translator = pipeline(\"translation\", model=\"Helsinki-NLP/opus-mt-en-fr\", device = 0)\n",
        "\n",
        "# translate the sentences\n",
        "for file in tqdm(files):\n",
        "    if file.split('.txt')[0]+'_fr.txt' in translated_trials:\n",
        "      continue\n",
        "    with open(f'{data_path}/chia_criteria_texts/{file}', 'r') as f:\n",
        "        file_text = f.read()\n",
        "    print(file)\n",
        "    sentences = file_text.split('\\n')\n",
        "    sentences = [s for s in sentences if s if len(s) > 0 and len(s.split()) < 512]\n",
        "    translated_sentences = translator(sentences)\n",
        "    with open(f'{data_path}/chia_criteria_french/{file.replace(\".txt\", \"_fr.txt\")}', 'w') as f:\n",
        "        f.write('\\n'.join([t['translation_text'] for t in translated_sentences]))"
      ]
    }
  ],
  "metadata": {
    "kernelspec": {
      "display_name": "Python 3",
      "name": "python3"
    },
    "language_info": {
      "codemirror_mode": {
        "name": "ipython",
        "version": 3
      },
      "file_extension": ".py",
      "mimetype": "text/x-python",
      "name": "python",
      "nbconvert_exporter": "python",
      "pygments_lexer": "ipython3",
      "version": "3.10.13"
    },
    "colab": {
      "provenance": [],
      "gpuType": "T4",
      "include_colab_link": true
    },
    "accelerator": "GPU"
  },
  "nbformat": 4,
  "nbformat_minor": 0
}